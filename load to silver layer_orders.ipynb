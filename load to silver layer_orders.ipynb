{
 "cells": [
  {
   "cell_type": "markdown",
   "metadata": {
    "application/vnd.databricks.v1+cell": {
     "cellMetadata": {},
     "inputWidgets": {},
     "nuid": "40b24627-b601-42f0-bde1-67eef46330c1",
     "showTitle": false,
     "tableResultSettingsMap": {},
     "title": ""
    }
   },
   "source": [
    "### LOAD TO SILVER Notebook\n",
    "This notebook demonstrates a data pipeline in Databricks using VELOCITY framework. The solution involves importing data, applying transformations, and loading the processed data into SILVER storage layer. The steps include:\n",
    "- Importing velocity library\n",
    "- Defining input data sources\n",
    "- Transforming the data using SQL\n",
    "- Defining output data targets\n",
    "- Writing the transformed data to the destination location"
   ]
  },
  {
   "cell_type": "code",
   "execution_count": 0,
   "metadata": {
    "application/vnd.databricks.v1+cell": {
     "cellMetadata": {
      "byteLimit": 2048000,
      "implicitDf": true,
      "rowLimit": 10000
     },
     "inputWidgets": {},
     "nuid": "69c2a8ce-6fc6-4b47-9291-bd5a8407bcc0",
     "showTitle": false,
     "tableResultSettingsMap": {},
     "title": ""
    }
   },
   "outputs": [
    {
     "output_type": "display_data",
     "data": {
      "text/html": [
       "<style scoped>\n",
       "  .table-result-container {\n",
       "    max-height: 300px;\n",
       "    overflow: auto;\n",
       "  }\n",
       "  table, th, td {\n",
       "    border: 1px solid black;\n",
       "    border-collapse: collapse;\n",
       "  }\n",
       "  th, td {\n",
       "    padding: 5px;\n",
       "  }\n",
       "  th {\n",
       "    text-align: left;\n",
       "  }\n",
       "</style><div class='table-result-container'><table class='table-result'><thead style='background-color: white'><tr><th>OrderID</th><th>CustomerID</th><th>SalespersonPersonID</th><th>PickedByPersonID</th><th>ContactPersonID</th><th>BackorderOrderID</th><th>OrderDate</th><th>ExpectedDeliveryDate</th><th>CustomerPurchaseOrderNumber</th><th>IsUndersupplyBackordered</th><th>Comments</th><th>DeliveryInstructions</th><th>InternalComments</th><th>PickingCompletedWhen</th><th>LastEditedBy</th><th>LastEditedWhen</th><th>inserted</th><th>updated</th><th>deleted</th></tr></thead><tbody><tr><td>1</td><td>830</td><td>2</td><td>null</td><td>3032</td><td>45</td><td>2013-01-01</td><td>2013-01-02</td><td>12126</td><td>1</td><td>null</td><td>null</td><td>null</td><td>2013-01-01 12:00:00.0000000</td><td>7</td><td>2025-03-10 11:15:58.1400000</td><td>2025-03-10T11:18:21.824686Z</td><td>2025-03-10T11:18:21.824689Z</td><td>2025-03-10T11:15:58.14Z</td></tr></tbody></table></div>"
      ]
     },
     "metadata": {
      "application/vnd.databricks.v1+output": {
       "addedWidgets": {},
       "aggData": [],
       "aggError": "",
       "aggOverflow": false,
       "aggSchema": [],
       "aggSeriesLimitReached": false,
       "aggType": "",
       "arguments": {},
       "columnCustomDisplayInfos": {},
       "data": [
        [
         "1",
         "830",
         "2",
         null,
         "3032",
         "45",
         "2013-01-01",
         "2013-01-02",
         "12126",
         "1",
         null,
         null,
         null,
         "2013-01-01 12:00:00.0000000",
         "7",
         "2025-03-10 11:15:58.1400000",
         "2025-03-10T11:18:21.824686Z",
         "2025-03-10T11:18:21.824689Z",
         "2025-03-10T11:15:58.14Z"
        ]
       ],
       "datasetInfos": [],
       "dbfsResultPath": null,
       "isJsonSchema": true,
       "metadata": {
        "dataframeName": "_sqldf",
        "executionCount": 78
       },
       "overflow": false,
       "plotOptions": {
        "customPlotOptions": {},
        "displayType": "table",
        "pivotAggregation": null,
        "pivotColumns": null,
        "xColumns": null,
        "yColumns": null
       },
       "removedWidgets": [],
       "schema": [
        {
         "metadata": "{}",
         "name": "OrderID",
         "type": "\"string\""
        },
        {
         "metadata": "{}",
         "name": "CustomerID",
         "type": "\"string\""
        },
        {
         "metadata": "{}",
         "name": "SalespersonPersonID",
         "type": "\"string\""
        },
        {
         "metadata": "{}",
         "name": "PickedByPersonID",
         "type": "\"string\""
        },
        {
         "metadata": "{}",
         "name": "ContactPersonID",
         "type": "\"string\""
        },
        {
         "metadata": "{}",
         "name": "BackorderOrderID",
         "type": "\"string\""
        },
        {
         "metadata": "{}",
         "name": "OrderDate",
         "type": "\"string\""
        },
        {
         "metadata": "{}",
         "name": "ExpectedDeliveryDate",
         "type": "\"string\""
        },
        {
         "metadata": "{}",
         "name": "CustomerPurchaseOrderNumber",
         "type": "\"string\""
        },
        {
         "metadata": "{}",
         "name": "IsUndersupplyBackordered",
         "type": "\"string\""
        },
        {
         "metadata": "{}",
         "name": "Comments",
         "type": "\"string\""
        },
        {
         "metadata": "{}",
         "name": "DeliveryInstructions",
         "type": "\"string\""
        },
        {
         "metadata": "{}",
         "name": "InternalComments",
         "type": "\"string\""
        },
        {
         "metadata": "{}",
         "name": "PickingCompletedWhen",
         "type": "\"string\""
        },
        {
         "metadata": "{}",
         "name": "LastEditedBy",
         "type": "\"string\""
        },
        {
         "metadata": "{}",
         "name": "LastEditedWhen",
         "type": "\"string\""
        },
        {
         "metadata": "{}",
         "name": "inserted",
         "type": "\"timestamp\""
        },
        {
         "metadata": "{}",
         "name": "updated",
         "type": "\"timestamp\""
        },
        {
         "metadata": "{}",
         "name": "deleted",
         "type": "\"timestamp\""
        }
       ],
       "type": "table"
      }
     },
     "output_type": "display_data"
    }
   ],
   "source": [
    "%sql\n",
    "select * from lakehouse_vy.bronze.sales_orders_bronze\n",
    "where OrderID = 1\n"
   ]
  },
  {
   "cell_type": "code",
   "execution_count": 0,
   "metadata": {
    "application/vnd.databricks.v1+cell": {
     "cellMetadata": {
      "byteLimit": 2048000,
      "rowLimit": 10000
     },
     "inputWidgets": {},
     "nuid": "5ccb430a-5b72-4d01-b0ea-9fc75756df13",
     "showTitle": false,
     "tableResultSettingsMap": {},
     "title": ""
    }
   },
   "outputs": [
    {
     "output_type": "stream",
     "name": "stderr",
     "output_type": "stream",
     "text": [
      "2025-07-01 10:05:09,794 — velocity.utils.spark_utils — INFO — Using the following default configs you may want to override them for your job: {'spark.databricks.delta.optimizeWrite.enabled': True, 'spark.sql.adaptive.enabled': True, 'spark.databricks.delta.merge.enableLowShuffle': True, 'spark.databricks.delta.schema.autoMerge.enabled': True, 'spark.secret_scope': 'kv-velocity', 'spark.metadata_store_mode': 'RDBMS', 'spark.credentials_store_mode': 'DATABRICKS'}\nINFO:velocity.utils.spark_utils:Using the following default configs you may want to override them for your job: {'spark.databricks.delta.optimizeWrite.enabled': True, 'spark.sql.adaptive.enabled': True, 'spark.databricks.delta.merge.enableLowShuffle': True, 'spark.databricks.delta.schema.autoMerge.enabled': True, 'spark.secret_scope': 'kv-velocity', 'spark.metadata_store_mode': 'RDBMS', 'spark.credentials_store_mode': 'DATABRICKS'}\n2025-07-01 10:05:09,796 — velocity.utils.spark_utils — INFO — Final config is: {'spark.databricks.delta.optimizeWrite.enabled': True, 'spark.sql.adaptive.enabled': True, 'spark.databricks.delta.merge.enableLowShuffle': True, 'spark.databricks.delta.schema.autoMerge.enabled': True, 'spark.secret_scope': 'kv-velocity', 'spark.metadata_store_mode': 'RDBMS', 'spark.credentials_store_mode': 'DATABRICKS'}\nINFO:velocity.utils.spark_utils:Final config is: {'spark.databricks.delta.optimizeWrite.enabled': True, 'spark.sql.adaptive.enabled': True, 'spark.databricks.delta.merge.enableLowShuffle': True, 'spark.databricks.delta.schema.autoMerge.enabled': True, 'spark.secret_scope': 'kv-velocity', 'spark.metadata_store_mode': 'RDBMS', 'spark.credentials_store_mode': 'DATABRICKS'}\n2025-07-01 10:05:09,818 — velocity.utils.spark_utils — INFO — Detected active session: Databricks Shell\nINFO:velocity.utils.spark_utils:Detected active session: Databricks Shell\n"
     ]
    }
   ],
   "source": [
    "from velocity.executor.notebook_executor import NotebookExecutor "
   ]
  },
  {
   "cell_type": "markdown",
   "metadata": {
    "application/vnd.databricks.v1+cell": {
     "cellMetadata": {},
     "inputWidgets": {},
     "nuid": "0a155149-f976-4eaf-ba3a-b18ebccfd588",
     "showTitle": false,
     "tableResultSettingsMap": {},
     "title": ""
    }
   },
   "source": [
    "## Input Defination"
   ]
  },
  {
   "cell_type": "code",
   "execution_count": 0,
   "metadata": {
    "application/vnd.databricks.v1+cell": {
     "cellMetadata": {
      "byteLimit": 2048000,
      "rowLimit": 10000
     },
     "inputWidgets": {},
     "nuid": "98b2cd1e-26a8-45c4-9c45-d6877efcd126",
     "showTitle": false,
     "tableResultSettingsMap": {},
     "title": ""
    }
   },
   "outputs": [],
   "source": [
    "# Define the input data sources\n",
    "input = {\n",
    "    \"BRONZE\": [\n",
    "        {\n",
    "            \"sales_orders\": {\n",
    "                \"alias\": \"sales_orders\",\n",
    "                \"catalog\": \"lakehouse_vy\",\n",
    "                \"schema\": \"bronze\",\n",
    "                \"read_method\": {\n",
    "                    \"incremental_read\": True,\n",
    "                    \"override_watermark\": False, \n",
    "                    \"watermark_column\":\"inserted\",     \n",
    "                    \"watermark_column_datatype\":\"DATETIME2\",\n",
    "                },\n",
    "                \"versioning\": {\n",
    "                    \"last_instance\": True,\n",
    "                    \"order_by\": [\"LastEditedWhen\", \"inserted\"],\n",
    "                    \"sort_desc\": True,\n",
    "                    \"partition_by\": [\"OrderID\"]\n",
    "                }\n",
    "            },\n",
    "            \"sales_orderlines\": {\n",
    "                \"catalog\": \"lakehouse_vy\",\n",
    "                \"schema\": \"bronze\",\n",
    "                \"read_method\": {\n",
    "                    \"incremental_read\": True,\n",
    "                    \"override_watermark\": False, \n",
    "                    \"watermark_column\":\"inserted\",     \n",
    "                    \"watermark_column_datatype\":\"DATETIME2\",\n",
    "                },\n",
    "                \"exclude_soft_deleted\": False,\n",
    "                \"versioning\": {\n",
    "                    \"last_instance\": True,\n",
    "                    \"order_by\": [\"LastEditedWhen\", \"inserted\"],\n",
    "                    \"sort_desc\": True,\n",
    "                    \"partition_by\": [\"OrderLineID\"]\n",
    "                }\n",
    "            }\n",
    "        }\n",
    "    ]\n",
    "}"
   ]
  },
  {
   "cell_type": "markdown",
   "metadata": {
    "application/vnd.databricks.v1+cell": {
     "cellMetadata": {
      "byteLimit": 2048000,
      "rowLimit": 10000
     },
     "inputWidgets": {},
     "nuid": "b736d7ae-81f1-4a85-bd21-6732b6e3dc54",
     "showTitle": false,
     "tableResultSettingsMap": {},
     "title": ""
    }
   },
   "source": [
    "# Debug step for data discovery\n",
    "Build views using the defined input data sources."
   ]
  },
  {
   "cell_type": "code",
   "execution_count": 0,
   "metadata": {
    "application/vnd.databricks.v1+cell": {
     "cellMetadata": {
      "byteLimit": 2048000,
      "rowLimit": 10000
     },
     "inputWidgets": {},
     "nuid": "cb964ffc-37f3-47ec-8451-a837bc3054e7",
     "showTitle": false,
     "tableResultSettingsMap": {},
     "title": ""
    }
   },
   "outputs": [
    {
     "output_type": "stream",
     "name": "stderr",
     "output_type": "stream",
     "text": [
      "2025-07-01 10:05:17,252 — velocity.utils.metadata_factory — INFO — Build Landing View: []\nINFO:velocity.utils.metadata_factory:Build Landing View: []\n2025-07-01 10:05:17,256 — velocity.utils.metadata_factory — INFO — read method: read_delta_standard\nINFO:velocity.utils.metadata_factory:read method: read_delta_standard\n"
     ]
    },
    {
     "output_type": "stream",
     "name": "stdout",
     "output_type": "stream",
     "text": [
      "['*']\n['*']\n"
     ]
    },
    {
     "output_type": "stream",
     "name": "stderr",
     "output_type": "stream",
     "text": [
      "2025-07-01 10:05:41,126 — velocity.utils.metadata_factory — INFO — read method: read_delta_standard\nINFO:velocity.utils.metadata_factory:read method: read_delta_standard\n"
     ]
    },
    {
     "output_type": "stream",
     "name": "stdout",
     "output_type": "stream",
     "text": [
      "read_perser select expression: [Column<'dense_rank() OVER (PARTITION BY OrderID ORDER BY LastEditedWhen DESC NULLS LAST, inserted DESC NULLS LAST unspecifiedframe$()) AS rank_col'>, Column<'unresolvedstar()'>]\nwatermark column: inserted\nfinal filter condition: Column<'and(and(true, `=`(rank_col, 1)), `>`(inserted, 2025-03-10 11:45:16.233359))'>\n['*']\n['*']\n"
     ]
    },
    {
     "output_type": "stream",
     "name": "stderr",
     "output_type": "stream",
     "text": [
      "2025-07-01 10:05:42,864 — velocity.utils.metadata_factory — INFO — Build View: [<velocity.metadata.delta_table_watermark.DeltaTableWatermark object at 0x71c265bc99d0>, <velocity.metadata.delta_table_watermark.DeltaTableWatermark object at 0x71c264fea610>]\nINFO:velocity.utils.metadata_factory:Build View: [<velocity.metadata.delta_table_watermark.DeltaTableWatermark object at 0x71c265bc99d0>, <velocity.metadata.delta_table_watermark.DeltaTableWatermark object at 0x71c264fea610>]\n2025-07-01 10:05:42,866 — velocity.utils.metadata_factory — INFO — Build Bronze View: [<velocity.metadata.delta_table_watermark.DeltaTableWatermark object at 0x71c265bc99d0>, <velocity.metadata.delta_table_watermark.DeltaTableWatermark object at 0x71c264fea610>]\nINFO:velocity.utils.metadata_factory:Build Bronze View: [<velocity.metadata.delta_table_watermark.DeltaTableWatermark object at 0x71c265bc99d0>, <velocity.metadata.delta_table_watermark.DeltaTableWatermark object at 0x71c264fea610>]\n2025-07-01 10:05:42,868 — velocity.utils.metadata_factory — INFO — Build Silver View: [<velocity.metadata.delta_table_watermark.DeltaTableWatermark object at 0x71c265bc99d0>, <velocity.metadata.delta_table_watermark.DeltaTableWatermark object at 0x71c264fea610>]\nINFO:velocity.utils.metadata_factory:Build Silver View: [<velocity.metadata.delta_table_watermark.DeltaTableWatermark object at 0x71c265bc99d0>, <velocity.metadata.delta_table_watermark.DeltaTableWatermark object at 0x71c264fea610>]\n2025-07-01 10:05:42,869 — velocity.utils.metadata_factory — INFO — Build Silver View: [<velocity.metadata.delta_table_watermark.DeltaTableWatermark object at 0x71c265bc99d0>, <velocity.metadata.delta_table_watermark.DeltaTableWatermark object at 0x71c264fea610>]\nINFO:velocity.utils.metadata_factory:Build Silver View: [<velocity.metadata.delta_table_watermark.DeltaTableWatermark object at 0x71c265bc99d0>, <velocity.metadata.delta_table_watermark.DeltaTableWatermark object at 0x71c264fea610>]\n"
     ]
    },
    {
     "output_type": "stream",
     "name": "stdout",
     "output_type": "stream",
     "text": [
      "read_perser select expression: [Column<'dense_rank() OVER (PARTITION BY OrderLineID ORDER BY LastEditedWhen DESC NULLS LAST, inserted DESC NULLS LAST unspecifiedframe$()) AS rank_col'>, Column<'unresolvedstar()'>]\nwatermark column: inserted\nfinal filter condition: Column<'and(and(true, `=`(rank_col, 1)), `>`(inserted, 2025-03-10 11:45:18.954820))'>\n"
     ]
    },
    {
     "output_type": "execute_result",
     "data": {
      "text/plain": [
       "[<velocity.metadata.delta_table_watermark.DeltaTableWatermark at 0x71c265bc99d0>,\n",
       " <velocity.metadata.delta_table_watermark.DeltaTableWatermark at 0x71c264fea610>]"
      ]
     },
     "execution_count": 3,
     "metadata": {},
     "output_type": "execute_result"
    }
   ],
   "source": [
    "NotebookExecutor.build_views(input)"
   ]
  },
  {
   "cell_type": "code",
   "execution_count": 0,
   "metadata": {
    "application/vnd.databricks.v1+cell": {
     "cellMetadata": {
      "byteLimit": 2048000,
      "implicitDf": true,
      "rowLimit": 10000
     },
     "inputWidgets": {},
     "nuid": "f9da3cec-706c-47ed-bbbf-908da12705f5",
     "showTitle": false,
     "tableResultSettingsMap": {},
     "title": ""
    }
   },
   "outputs": [
    {
     "output_type": "display_data",
     "data": {
      "text/html": [
       "<style scoped>\n",
       "  .table-result-container {\n",
       "    max-height: 300px;\n",
       "    overflow: auto;\n",
       "  }\n",
       "  table, th, td {\n",
       "    border: 1px solid black;\n",
       "    border-collapse: collapse;\n",
       "  }\n",
       "  th, td {\n",
       "    padding: 5px;\n",
       "  }\n",
       "  th {\n",
       "    text-align: left;\n",
       "  }\n",
       "</style><div class='table-result-container'><table class='table-result'><thead style='background-color: white'><tr><th>rank_col</th><th>OrderID</th><th>CustomerID</th><th>SalespersonPersonID</th><th>PickedByPersonID</th><th>ContactPersonID</th><th>BackorderOrderID</th><th>OrderDate</th><th>ExpectedDeliveryDate</th><th>CustomerPurchaseOrderNumber</th><th>IsUndersupplyBackordered</th><th>Comments</th><th>DeliveryInstructions</th><th>InternalComments</th><th>PickingCompletedWhen</th><th>LastEditedBy</th><th>LastEditedWhen</th><th>inserted</th><th>updated</th><th>deleted</th><th>watermark_value</th></tr></thead><tbody><tr><td>1</td><td>1</td><td>830</td><td>2</td><td>null</td><td>3032</td><td>45</td><td>2013-01-01</td><td>2013-01-02</td><td>12126</td><td>1</td><td>null</td><td>null</td><td>null</td><td>2013-01-01 12:00:00.0000000</td><td>7</td><td>2025-03-10 11:15:58.1400000</td><td>2025-03-12T08:15:22.70632Z</td><td>2025-03-12T08:15:22.706323Z</td><td>2025-03-10T11:15:58.14Z</td><td>2025-03-10 11:45:16.233359</td></tr></tbody></table></div>"
      ]
     },
     "metadata": {
      "application/vnd.databricks.v1+output": {
       "addedWidgets": {},
       "aggData": [],
       "aggError": "",
       "aggOverflow": false,
       "aggSchema": [],
       "aggSeriesLimitReached": false,
       "aggType": "",
       "arguments": {},
       "columnCustomDisplayInfos": {},
       "data": [
        [
         1,
         "1",
         "830",
         "2",
         null,
         "3032",
         "45",
         "2013-01-01",
         "2013-01-02",
         "12126",
         "1",
         null,
         null,
         null,
         "2013-01-01 12:00:00.0000000",
         "7",
         "2025-03-10 11:15:58.1400000",
         "2025-03-12T08:15:22.70632Z",
         "2025-03-12T08:15:22.706323Z",
         "2025-03-10T11:15:58.14Z",
         "2025-03-10 11:45:16.233359"
        ]
       ],
       "datasetInfos": [],
       "dbfsResultPath": null,
       "isJsonSchema": true,
       "metadata": {
        "createTempViewForImplicitDf": true,
        "dataframeName": "_sqldf",
        "executionCount": 4
       },
       "overflow": false,
       "plotOptions": {
        "customPlotOptions": {},
        "displayType": "table",
        "pivotAggregation": null,
        "pivotColumns": null,
        "xColumns": null,
        "yColumns": null
       },
       "removedWidgets": [],
       "schema": [
        {
         "metadata": "{}",
         "name": "rank_col",
         "type": "\"integer\""
        },
        {
         "metadata": "{}",
         "name": "OrderID",
         "type": "\"string\""
        },
        {
         "metadata": "{}",
         "name": "CustomerID",
         "type": "\"string\""
        },
        {
         "metadata": "{}",
         "name": "SalespersonPersonID",
         "type": "\"string\""
        },
        {
         "metadata": "{}",
         "name": "PickedByPersonID",
         "type": "\"string\""
        },
        {
         "metadata": "{}",
         "name": "ContactPersonID",
         "type": "\"string\""
        },
        {
         "metadata": "{}",
         "name": "BackorderOrderID",
         "type": "\"string\""
        },
        {
         "metadata": "{}",
         "name": "OrderDate",
         "type": "\"string\""
        },
        {
         "metadata": "{}",
         "name": "ExpectedDeliveryDate",
         "type": "\"string\""
        },
        {
         "metadata": "{}",
         "name": "CustomerPurchaseOrderNumber",
         "type": "\"string\""
        },
        {
         "metadata": "{}",
         "name": "IsUndersupplyBackordered",
         "type": "\"string\""
        },
        {
         "metadata": "{}",
         "name": "Comments",
         "type": "\"string\""
        },
        {
         "metadata": "{}",
         "name": "DeliveryInstructions",
         "type": "\"string\""
        },
        {
         "metadata": "{}",
         "name": "InternalComments",
         "type": "\"string\""
        },
        {
         "metadata": "{}",
         "name": "PickingCompletedWhen",
         "type": "\"string\""
        },
        {
         "metadata": "{}",
         "name": "LastEditedBy",
         "type": "\"string\""
        },
        {
         "metadata": "{}",
         "name": "LastEditedWhen",
         "type": "\"string\""
        },
        {
         "metadata": "{}",
         "name": "inserted",
         "type": "\"timestamp\""
        },
        {
         "metadata": "{}",
         "name": "updated",
         "type": "\"timestamp\""
        },
        {
         "metadata": "{}",
         "name": "deleted",
         "type": "\"timestamp\""
        },
        {
         "metadata": "{}",
         "name": "watermark_value",
         "type": "\"string\""
        }
       ],
       "type": "table"
      }
     },
     "output_type": "display_data"
    }
   ],
   "source": [
    "%sql\n",
    "select * from vw_sales_orders where OrderID = 1"
   ]
  },
  {
   "cell_type": "markdown",
   "metadata": {
    "application/vnd.databricks.v1+cell": {
     "cellMetadata": {
      "byteLimit": 2048000,
      "rowLimit": 10000
     },
     "inputWidgets": {},
     "nuid": "b04b2dae-cc65-46ce-b117-e02059bf07f4",
     "showTitle": false,
     "tableResultSettingsMap": {},
     "title": ""
    }
   },
   "source": [
    "# Define Logic: Load to Silver Layer using SQL\n",
    "##### - Handle missing values\n",
    "##### - Covert data to correct types\n",
    "\n",
    "The temporary view vw_source_set will be used as the reference when writing the output."
   ]
  },
  {
   "cell_type": "code",
   "execution_count": 0,
   "metadata": {
    "application/vnd.databricks.v1+cell": {
     "cellMetadata": {
      "byteLimit": 2048000,
      "implicitDf": true,
      "rowLimit": 10000
     },
     "inputWidgets": {},
     "nuid": "0f1f5ee3-54ff-4a85-8e36-4bc074b27082",
     "showTitle": false,
     "tableResultSettingsMap": {},
     "title": ""
    }
   },
   "outputs": [
    {
     "output_type": "display_data",
     "data": {
      "text/html": [
       "<style scoped>\n",
       "  .table-result-container {\n",
       "    max-height: 300px;\n",
       "    overflow: auto;\n",
       "  }\n",
       "  table, th, td {\n",
       "    border: 1px solid black;\n",
       "    border-collapse: collapse;\n",
       "  }\n",
       "  th, td {\n",
       "    padding: 5px;\n",
       "  }\n",
       "  th {\n",
       "    text-align: left;\n",
       "  }\n",
       "</style><div class='table-result-container'><table class='table-result'><thead style='background-color: white'><tr><th>OrderLineID</th><th>OrderID</th><th>CustomerID</th><th>BackorderOrderID</th><th>OrderDate</th><th>ExpectedDeliveryDate</th><th>CustomerPurchaseOrderNumber</th><th>IsUndersupplyBackordered</th><th>PickingCompletedWhen</th><th>StockItemID</th><th>Description</th><th>Quantity</th><th>UnitPrice</th><th>TaxRate</th><th>PickedQuantity</th><th>LinePickingCompletedWhen</th></tr></thead><tbody><tr><td>2</td><td>1</td><td>null</td><td>-1</td><td>null</td><td>null</td><td>null</td><td>null</td><td>1900-01-01T00:00:00Z</td><td>67</td><td>Ride on toy sedan car (Black) 1/12 scale</td><td>10</td><td>230.00</td><td>15.000</td><td>10</td><td>2013-01-01T11:00:00Z</td></tr></tbody></table></div>"
      ]
     },
     "metadata": {
      "application/vnd.databricks.v1+output": {
       "addedWidgets": {},
       "aggData": [],
       "aggError": "",
       "aggOverflow": false,
       "aggSchema": [],
       "aggSeriesLimitReached": false,
       "aggType": "",
       "arguments": {},
       "columnCustomDisplayInfos": {},
       "data": [
        [
         2,
         1,
         null,
         -1,
         null,
         null,
         null,
         null,
         "1900-01-01T00:00:00Z",
         67,
         "Ride on toy sedan car (Black) 1/12 scale",
         10,
         "230.00",
         "15.000",
         10,
         "2013-01-01T11:00:00Z"
        ]
       ],
       "datasetInfos": [],
       "dbfsResultPath": null,
       "isJsonSchema": true,
       "metadata": {
        "dataframeName": "_sqldf",
        "executionCount": 72
       },
       "overflow": false,
       "plotOptions": {
        "customPlotOptions": {},
        "displayType": "table",
        "pivotAggregation": null,
        "pivotColumns": null,
        "xColumns": null,
        "yColumns": null
       },
       "removedWidgets": [],
       "schema": [
        {
         "metadata": "{}",
         "name": "OrderLineID",
         "type": "\"integer\""
        },
        {
         "metadata": "{}",
         "name": "OrderID",
         "type": "\"integer\""
        },
        {
         "metadata": "{}",
         "name": "CustomerID",
         "type": "\"integer\""
        },
        {
         "metadata": "{}",
         "name": "BackorderOrderID",
         "type": "\"integer\""
        },
        {
         "metadata": "{}",
         "name": "OrderDate",
         "type": "\"date\""
        },
        {
         "metadata": "{}",
         "name": "ExpectedDeliveryDate",
         "type": "\"date\""
        },
        {
         "metadata": "{}",
         "name": "CustomerPurchaseOrderNumber",
         "type": "\"string\""
        },
        {
         "metadata": "{}",
         "name": "IsUndersupplyBackordered",
         "type": "\"boolean\""
        },
        {
         "metadata": "{}",
         "name": "PickingCompletedWhen",
         "type": "\"timestamp\""
        },
        {
         "metadata": "{}",
         "name": "StockItemID",
         "type": "\"integer\""
        },
        {
         "metadata": "{}",
         "name": "Description",
         "type": "\"string\""
        },
        {
         "metadata": "{}",
         "name": "Quantity",
         "type": "\"integer\""
        },
        {
         "metadata": "{}",
         "name": "UnitPrice",
         "type": "\"decimal(18,2)\""
        },
        {
         "metadata": "{}",
         "name": "TaxRate",
         "type": "\"decimal(18,3)\""
        },
        {
         "metadata": "{}",
         "name": "PickedQuantity",
         "type": "\"integer\""
        },
        {
         "metadata": "{}",
         "name": "LinePickingCompletedWhen",
         "type": "\"timestamp\""
        }
       ],
       "type": "table"
      }
     },
     "output_type": "display_data"
    }
   ],
   "source": [
    "%sql\n",
    "-- select * from vw_source_set where OrderID = 1"
   ]
  },
  {
   "cell_type": "code",
   "execution_count": 0,
   "metadata": {
    "application/vnd.databricks.v1+cell": {
     "cellMetadata": {
      "byteLimit": 2048000,
      "rowLimit": 10000
     },
     "inputWidgets": {},
     "nuid": "3af8afe0-b139-4cb8-ba9b-c2e038350686",
     "showTitle": false,
     "tableResultSettingsMap": {},
     "title": ""
    }
   },
   "outputs": [],
   "source": [
    "sql_logic = \"\"\"\n",
    "CREATE OR REPLACE TEMPORARY VIEW vw_source_set\n",
    "AS\n",
    "SELECT \n",
    "    CAST(ol.OrderLineID AS INT) AS OrderLineID,\n",
    "    CAST(ol.OrderID AS INT) AS OrderID,\n",
    "    CAST(so.CustomerID AS INT) AS CustomerID,\n",
    "    COALESCE(CAST(so.BackorderOrderID AS INT), -1) AS BackorderOrderID,\n",
    "    CAST(so.OrderDate AS DATE) AS OrderDate,\n",
    "    CAST(so.ExpectedDeliveryDate AS DATE) AS ExpectedDeliveryDate,\n",
    "    CAST(so.CustomerPurchaseOrderNumber AS STRING) AS CustomerPurchaseOrderNumber,\n",
    "    CAST(so.IsUndersupplyBackordered AS BOOLEAN) AS IsUndersupplyBackordered,\n",
    "    COALESCE(CAST(so.PickingCompletedWhen AS TIMESTAMP), TIMESTAMP('1900-01-01 00:00:00')) AS PickingCompletedWhen,\n",
    "    CAST(ol.StockItemID AS INT) AS StockItemID,\n",
    "    CAST(ol.Description AS STRING) AS Description,\n",
    "    CAST(ol.Quantity AS INT) AS Quantity,\n",
    "    CAST(ol.UnitPrice AS DECIMAL(18, 2)) AS UnitPrice,\n",
    "    CAST(ol.TaxRate AS DECIMAL(18, 3)) AS TaxRate,\n",
    "    CAST(ol.PickedQuantity AS INT) AS PickedQuantity,\n",
    "    CAST(ol.PickingCompletedWhen AS TIMESTAMP) AS LinePickingCompletedWhen\n",
    "FROM\n",
    "    vw_sales_orderlines ol\n",
    "LEFT JOIN\n",
    "    vw_sales_orders so\n",
    "ON\n",
    "    ol.OrderID = so.OrderID\n",
    "\"\"\""
   ]
  },
  {
   "cell_type": "code",
   "execution_count": 0,
   "metadata": {
    "application/vnd.databricks.v1+cell": {
     "cellMetadata": {
      "byteLimit": 2048000,
      "rowLimit": 10000
     },
     "inputWidgets": {},
     "nuid": "2d7c4a32-df36-4f1c-90dc-07c1d3440cc0",
     "showTitle": false,
     "tableResultSettingsMap": {},
     "title": ""
    }
   },
   "outputs": [],
   "source": [
    "output: map = {\n",
    "    \"orders\" : {\n",
    "        \"catalog\": \"lakehouse_vy\",\n",
    "        \"schema\": \"silver\",\n",
    "        \"target_type\": \"SILVER\",\n",
    "        \"write_mode\": \"INSERT_ONLY\",  \n",
    "        \"composite_key\": [\"OrderID\",\"OrderLineID\"], \n",
    "        }\n",
    "}\n"
   ]
  },
  {
   "cell_type": "code",
   "execution_count": 0,
   "metadata": {
    "application/vnd.databricks.v1+cell": {
     "cellMetadata": {
      "byteLimit": 2048000,
      "rowLimit": 10000
     },
     "inputWidgets": {},
     "nuid": "04b3b970-f8c8-47ed-9750-7a7520c45210",
     "showTitle": false,
     "tableResultSettingsMap": {},
     "title": ""
    }
   },
   "outputs": [
    {
     "output_type": "stream",
     "name": "stderr",
     "output_type": "stream",
     "text": [
      "2025-07-01 10:06:05,179 — velocity.utils.metadata_factory — INFO — Build Landing View: []\nINFO:velocity.utils.metadata_factory:Build Landing View: []\n2025-07-01 10:06:05,181 — velocity.utils.metadata_factory — INFO — read method: read_delta_standard\nINFO:velocity.utils.metadata_factory:read method: read_delta_standard\n"
     ]
    },
    {
     "output_type": "stream",
     "name": "stdout",
     "output_type": "stream",
     "text": [
      "['*']\n['*']\n"
     ]
    },
    {
     "output_type": "stream",
     "name": "stderr",
     "output_type": "stream",
     "text": [
      "2025-07-01 10:06:07,106 — velocity.utils.metadata_factory — INFO — read method: read_delta_standard\nINFO:velocity.utils.metadata_factory:read method: read_delta_standard\n"
     ]
    },
    {
     "output_type": "stream",
     "name": "stdout",
     "output_type": "stream",
     "text": [
      "read_perser select expression: [Column<'dense_rank() OVER (PARTITION BY OrderID ORDER BY LastEditedWhen DESC NULLS LAST, inserted DESC NULLS LAST unspecifiedframe$()) AS rank_col'>, Column<'unresolvedstar()'>]\nwatermark column: inserted\nfinal filter condition: Column<'and(and(true, `=`(rank_col, 1)), `>`(inserted, 2025-03-10 11:45:16.233359))'>\n['*']\n['*']\n"
     ]
    },
    {
     "output_type": "stream",
     "name": "stderr",
     "output_type": "stream",
     "text": [
      "2025-07-01 10:06:08,507 — velocity.utils.metadata_factory — INFO — Build View: [<velocity.metadata.delta_table_watermark.DeltaTableWatermark object at 0x71c2652a5190>, <velocity.metadata.delta_table_watermark.DeltaTableWatermark object at 0x71c264e32310>]\nINFO:velocity.utils.metadata_factory:Build View: [<velocity.metadata.delta_table_watermark.DeltaTableWatermark object at 0x71c2652a5190>, <velocity.metadata.delta_table_watermark.DeltaTableWatermark object at 0x71c264e32310>]\n2025-07-01 10:06:08,508 — velocity.utils.metadata_factory — INFO — Build Bronze View: [<velocity.metadata.delta_table_watermark.DeltaTableWatermark object at 0x71c2652a5190>, <velocity.metadata.delta_table_watermark.DeltaTableWatermark object at 0x71c264e32310>]\nINFO:velocity.utils.metadata_factory:Build Bronze View: [<velocity.metadata.delta_table_watermark.DeltaTableWatermark object at 0x71c2652a5190>, <velocity.metadata.delta_table_watermark.DeltaTableWatermark object at 0x71c264e32310>]\n2025-07-01 10:06:08,509 — velocity.utils.metadata_factory — INFO — Build Silver View: [<velocity.metadata.delta_table_watermark.DeltaTableWatermark object at 0x71c2652a5190>, <velocity.metadata.delta_table_watermark.DeltaTableWatermark object at 0x71c264e32310>]\nINFO:velocity.utils.metadata_factory:Build Silver View: [<velocity.metadata.delta_table_watermark.DeltaTableWatermark object at 0x71c2652a5190>, <velocity.metadata.delta_table_watermark.DeltaTableWatermark object at 0x71c264e32310>]\n2025-07-01 10:06:08,510 — velocity.utils.metadata_factory — INFO — Build Silver View: [<velocity.metadata.delta_table_watermark.DeltaTableWatermark object at 0x71c2652a5190>, <velocity.metadata.delta_table_watermark.DeltaTableWatermark object at 0x71c264e32310>]\nINFO:velocity.utils.metadata_factory:Build Silver View: [<velocity.metadata.delta_table_watermark.DeltaTableWatermark object at 0x71c2652a5190>, <velocity.metadata.delta_table_watermark.DeltaTableWatermark object at 0x71c264e32310>]\n"
     ]
    },
    {
     "output_type": "stream",
     "name": "stdout",
     "output_type": "stream",
     "text": [
      "read_perser select expression: [Column<'dense_rank() OVER (PARTITION BY OrderLineID ORDER BY LastEditedWhen DESC NULLS LAST, inserted DESC NULLS LAST unspecifiedframe$()) AS rank_col'>, Column<'unresolvedstar()'>]\nwatermark column: inserted\nfinal filter condition: Column<'and(and(true, `=`(rank_col, 1)), `>`(inserted, 2025-03-10 11:45:18.954820))'>\n"
     ]
    },
    {
     "output_type": "stream",
     "name": "stderr",
     "output_type": "stream",
     "text": [
      "2025-07-01 10:06:08,665 — velocity.utils.metadata_factory — INFO — target format: UNITY_TABLE\nINFO:velocity.utils.metadata_factory:target format: UNITY_TABLE\n2025-07-01 10:06:08,666 — velocity.utils.metadata_factory — INFO — target layer: SILVER\nINFO:velocity.utils.metadata_factory:target layer: SILVER\nINFO:velocity.dataset.abs_dataset:output columns: ['inserted', 'updated', 'deleted', 'keyHash', 'rowHash', 'OrderLineID', 'OrderID', 'CustomerID', 'BackorderOrderID', 'OrderDate', 'ExpectedDeliveryDate', 'CustomerPurchaseOrderNumber', 'IsUndersupplyBackordered', 'PickingCompletedWhen', 'StockItemID', 'Description', 'Quantity', 'UnitPrice', 'TaxRate', 'PickedQuantity', 'LinePickingCompletedWhen']\nINFO:velocity.dataset.abs_dataset:result output columns: ['inserted', 'updated', 'deleted', 'keyHash', 'rowHash', 'OrderLineID', 'OrderID', 'CustomerID', 'BackorderOrderID', 'OrderDate', 'ExpectedDeliveryDate', 'CustomerPurchaseOrderNumber', 'IsUndersupplyBackordered', 'PickingCompletedWhen', 'StockItemID', 'Description', 'Quantity', 'UnitPrice', 'TaxRate', 'PickedQuantity', 'LinePickingCompletedWhen']\nINFO:velocity.dataset.abs_dataset:result output columns: ['inserted', 'updated', 'deleted', 'keyHash', 'rowHash', 'OrderLineID', 'OrderID', 'CustomerID', 'BackorderOrderID', 'OrderDate', 'ExpectedDeliveryDate', 'CustomerPurchaseOrderNumber', 'IsUndersupplyBackordered', 'PickingCompletedWhen', 'StockItemID', 'Description', 'Quantity', 'UnitPrice', 'TaxRate', 'PickedQuantity', 'LinePickingCompletedWhen']\nINFO:velocity.dataset.abs_dataset:source: ['inserted', 'updated', 'deleted', 'keyHash', 'rowHash', 'OrderLineID', 'OrderID', 'CustomerID', 'BackorderOrderID', 'OrderDate', 'ExpectedDeliveryDate', 'CustomerPurchaseOrderNumber', 'IsUndersupplyBackordered', 'PickingCompletedWhen', 'StockItemID', 'Description', 'Quantity', 'UnitPrice', 'TaxRate', 'PickedQuantity', 'LinePickingCompletedWhen']\nINFO:velocity.dataset.abs_dataset:source: ['inserted', 'updated', 'deleted', 'keyHash', 'rowHash', 'OrderLineID', 'OrderID', 'CustomerID', 'BackorderOrderID', 'OrderDate', 'ExpectedDeliveryDate', 'CustomerPurchaseOrderNumber', 'IsUndersupplyBackordered', 'PickingCompletedWhen', 'StockItemID', 'Description', 'Quantity', 'UnitPrice', 'TaxRate', 'PickedQuantity', 'LinePickingCompletedWhen']\nINFO:velocity.dataset.abs_dataset:result output columns: ['inserted', 'updated', 'deleted', 'keyHash', 'rowHash', 'OrderLineID', 'OrderID', 'CustomerID', 'BackorderOrderID', 'OrderDate', 'ExpectedDeliveryDate', 'CustomerPurchaseOrderNumber', 'IsUndersupplyBackordered', 'PickingCompletedWhen', 'StockItemID', 'Description', 'Quantity', 'UnitPrice', 'TaxRate', 'PickedQuantity', 'LinePickingCompletedWhen']\n2025-07-01 10:06:27,424 — velocity.metadata.abs_watermark — INFO — watermark value to be written: 2025-07-01 10:06:05.183351\nINFO:velocity.metadata.abs_watermark:watermark value to be written: 2025-07-01 10:06:05.183351\n2025-07-01 10:06:33,917 — velocity.metadata.abs_watermark — INFO — watermark value to be written: 2025-07-01 10:06:07.116256\nINFO:velocity.metadata.abs_watermark:watermark value to be written: 2025-07-01 10:06:07.116256\n"
     ]
    }
   ],
   "source": [
    "NotebookExecutor.execute(input, sql_logic, output)"
   ]
  },
  {
   "cell_type": "code",
   "execution_count": 0,
   "metadata": {
    "application/vnd.databricks.v1+cell": {
     "cellMetadata": {
      "byteLimit": 2048000,
      "implicitDf": true,
      "rowLimit": 10000
     },
     "inputWidgets": {},
     "nuid": "1e2816df-df18-44af-ad57-ae19e59c1c06",
     "showTitle": false,
     "tableResultSettingsMap": {},
     "title": ""
    }
   },
   "outputs": [],
   "source": [
    "# %sql\n",
    "# truncate table lakehouse_vy.bronze.sales_orders_bronze;\n",
    "# truncate table lakehouse_vy.bronze.sales_orderlines_bronze;\n",
    "# truncate table lakehouse_vy.bronze.sales_customers_bronze;\n",
    "# truncate table lakehouse_vy.bronze.warehouse_stockitems_bronze"
   ]
  },
  {
   "cell_type": "code",
   "execution_count": 0,
   "metadata": {
    "application/vnd.databricks.v1+cell": {
     "cellMetadata": {
      "byteLimit": 2048000,
      "implicitDf": true,
      "rowLimit": 10000
     },
     "inputWidgets": {},
     "nuid": "c879f9f0-4ba7-4703-94c6-dc2d75c98080",
     "showTitle": false,
     "tableResultSettingsMap": {},
     "title": ""
    }
   },
   "outputs": [
    {
     "output_type": "display_data",
     "data": {
      "text/html": [
       "<style scoped>\n",
       "  .table-result-container {\n",
       "    max-height: 300px;\n",
       "    overflow: auto;\n",
       "  }\n",
       "  table, th, td {\n",
       "    border: 1px solid black;\n",
       "    border-collapse: collapse;\n",
       "  }\n",
       "  th, td {\n",
       "    padding: 5px;\n",
       "  }\n",
       "  th {\n",
       "    text-align: left;\n",
       "  }\n",
       "</style><div class='table-result-container'><table class='table-result'><thead style='background-color: white'><tr><th>num_affected_rows</th></tr></thead><tbody><tr><td>1</td></tr></tbody></table></div>"
      ]
     },
     "metadata": {
      "application/vnd.databricks.v1+output": {
       "addedWidgets": {},
       "aggData": [],
       "aggError": "",
       "aggOverflow": false,
       "aggSchema": [],
       "aggSeriesLimitReached": false,
       "aggType": "",
       "arguments": {},
       "columnCustomDisplayInfos": {},
       "data": [
        [
         1
        ]
       ],
       "datasetInfos": [],
       "dbfsResultPath": null,
       "isJsonSchema": true,
       "metadata": {
        "createTempViewForImplicitDf": true,
        "dataframeName": "_sqldf",
        "executionCount": 12
       },
       "overflow": false,
       "plotOptions": {
        "customPlotOptions": {},
        "displayType": "table",
        "pivotAggregation": null,
        "pivotColumns": null,
        "xColumns": null,
        "yColumns": null
       },
       "removedWidgets": [],
       "schema": [
        {
         "metadata": "{}",
         "name": "num_affected_rows",
         "type": "\"long\""
        }
       ],
       "type": "table"
      }
     },
     "output_type": "display_data"
    }
   ],
   "source": [
    "%sql\n",
    "-- delete \n",
    "-- from matas_development.bricksmith_meta.watermark\n",
    "-- where watermark_value = '2025-07-01 10:06:05.183351'"
   ]
  }
 ],
 "metadata": {
  "application/vnd.databricks.v1+notebook": {
   "computePreferences": null,
   "dashboards": [],
   "environmentMetadata": {
    "base_environment": "",
    "environment_version": "1"
   },
   "inputWidgetPreferences": null,
   "language": "python",
   "notebookMetadata": {
    "mostRecentlyExecutedCommandWithImplicitDF": {
     "commandId": 5733429954815820,
     "dataframes": [
      "_sqldf"
     ]
    },
    "pythonIndentUnit": 4
   },
   "notebookName": "load to silver layer_orders",
   "widgets": {}
  },
  "language_info": {
   "name": "python"
  }
 },
 "nbformat": 4,
 "nbformat_minor": 0
}