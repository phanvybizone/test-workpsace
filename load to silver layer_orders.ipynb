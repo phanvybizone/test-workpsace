{
 "cells": [
  {
   "cell_type": "markdown",
   "metadata": {
    "application/vnd.databricks.v1+cell": {
     "cellMetadata": {},
     "inputWidgets": {},
     "nuid": "40b24627-b601-42f0-bde1-67eef46330c1",
     "showTitle": false,
     "tableResultSettingsMap": {},
     "title": ""
    }
   },
   "source": [
    "### LOAD TO SILVER Notebook\n",
    "This notebook demonstrates a data pipeline in Databricks using VELOCITY framework. The solution involves importing data, applying transformations, and loading the processed data into SILVER storage layer. The steps include:\n",
    "- Importing velocity library\n",
    "- Defining input data sources\n",
    "- Transforming the data using SQL\n",
    "- Defining output data targets\n",
    "- Writing the transformed data to the destination location"
   ]
  },
  {
   "cell_type": "code",
   "execution_count": 0,
   "metadata": {
    "application/vnd.databricks.v1+cell": {
     "cellMetadata": {
      "byteLimit": 2048000,
      "implicitDf": true,
      "rowLimit": 10000
     },
     "inputWidgets": {},
     "nuid": "69c2a8ce-6fc6-4b47-9291-bd5a8407bcc0",
     "showTitle": false,
     "tableResultSettingsMap": {},
     "title": ""
    }
   },
   "outputs": [
    {
     "output_type": "display_data",
     "data": {
      "text/html": [
       "<style scoped>\n",
       "  .table-result-container {\n",
       "    max-height: 300px;\n",
       "    overflow: auto;\n",
       "  }\n",
       "  table, th, td {\n",
       "    border: 1px solid black;\n",
       "    border-collapse: collapse;\n",
       "  }\n",
       "  th, td {\n",
       "    padding: 5px;\n",
       "  }\n",
       "  th {\n",
       "    text-align: left;\n",
       "  }\n",
       "</style><div class='table-result-container'><table class='table-result'><thead style='background-color: white'><tr><th>OrderID</th><th>CustomerID</th><th>SalespersonPersonID</th><th>PickedByPersonID</th><th>ContactPersonID</th><th>BackorderOrderID</th><th>OrderDate</th><th>ExpectedDeliveryDate</th><th>CustomerPurchaseOrderNumber</th><th>IsUndersupplyBackordered</th><th>Comments</th><th>DeliveryInstructions</th><th>InternalComments</th><th>PickingCompletedWhen</th><th>LastEditedBy</th><th>LastEditedWhen</th><th>inserted</th><th>updated</th><th>deleted</th></tr></thead><tbody><tr><td>1</td><td>830</td><td>2</td><td>null</td><td>3032</td><td>45</td><td>2013-01-01</td><td>2013-01-02</td><td>12126</td><td>1</td><td>null</td><td>null</td><td>null</td><td>2013-01-01 12:00:00.0000000</td><td>7</td><td>2025-03-10 11:15:58.1400000</td><td>2025-03-10T11:18:21.824686Z</td><td>2025-03-10T11:18:21.824689Z</td><td>2025-03-10T11:15:58.14Z</td></tr></tbody></table></div>"
      ]
     },
     "metadata": {
      "application/vnd.databricks.v1+output": {
       "addedWidgets": {},
       "aggData": [],
       "aggError": "",
       "aggOverflow": false,
       "aggSchema": [],
       "aggSeriesLimitReached": false,
       "aggType": "",
       "arguments": {},
       "columnCustomDisplayInfos": {},
       "data": [
        [
         "1",
         "830",
         "2",
         null,
         "3032",
         "45",
         "2013-01-01",
         "2013-01-02",
         "12126",
         "1",
         null,
         null,
         null,
         "2013-01-01 12:00:00.0000000",
         "7",
         "2025-03-10 11:15:58.1400000",
         "2025-03-10T11:18:21.824686Z",
         "2025-03-10T11:18:21.824689Z",
         "2025-03-10T11:15:58.14Z"
        ]
       ],
       "datasetInfos": [],
       "dbfsResultPath": null,
       "isJsonSchema": true,
       "metadata": {
        "dataframeName": "_sqldf",
        "executionCount": 78
       },
       "overflow": false,
       "plotOptions": {
        "customPlotOptions": {},
        "displayType": "table",
        "pivotAggregation": null,
        "pivotColumns": null,
        "xColumns": null,
        "yColumns": null
       },
       "removedWidgets": [],
       "schema": [
        {
         "metadata": "{}",
         "name": "OrderID",
         "type": "\"string\""
        },
        {
         "metadata": "{}",
         "name": "CustomerID",
         "type": "\"string\""
        },
        {
         "metadata": "{}",
         "name": "SalespersonPersonID",
         "type": "\"string\""
        },
        {
         "metadata": "{}",
         "name": "PickedByPersonID",
         "type": "\"string\""
        },
        {
         "metadata": "{}",
         "name": "ContactPersonID",
         "type": "\"string\""
        },
        {
         "metadata": "{}",
         "name": "BackorderOrderID",
         "type": "\"string\""
        },
        {
         "metadata": "{}",
         "name": "OrderDate",
         "type": "\"string\""
        },
        {
         "metadata": "{}",
         "name": "ExpectedDeliveryDate",
         "type": "\"string\""
        },
        {
         "metadata": "{}",
         "name": "CustomerPurchaseOrderNumber",
         "type": "\"string\""
        },
        {
         "metadata": "{}",
         "name": "IsUndersupplyBackordered",
         "type": "\"string\""
        },
        {
         "metadata": "{}",
         "name": "Comments",
         "type": "\"string\""
        },
        {
         "metadata": "{}",
         "name": "DeliveryInstructions",
         "type": "\"string\""
        },
        {
         "metadata": "{}",
         "name": "InternalComments",
         "type": "\"string\""
        },
        {
         "metadata": "{}",
         "name": "PickingCompletedWhen",
         "type": "\"string\""
        },
        {
         "metadata": "{}",
         "name": "LastEditedBy",
         "type": "\"string\""
        },
        {
         "metadata": "{}",
         "name": "LastEditedWhen",
         "type": "\"string\""
        },
        {
         "metadata": "{}",
         "name": "inserted",
         "type": "\"timestamp\""
        },
        {
         "metadata": "{}",
         "name": "updated",
         "type": "\"timestamp\""
        },
        {
         "metadata": "{}",
         "name": "deleted",
         "type": "\"timestamp\""
        }
       ],
       "type": "table"
      }
     },
     "output_type": "display_data"
    }
   ],
   "source": [
    "%sql\n",
    "select * from lakehouse_vy.bronze.sales_orders_bronze\n",
    "where OrderID = 1\n"
   ]
  },
  {
   "cell_type": "code",
   "execution_count": 0,
   "metadata": {
    "application/vnd.databricks.v1+cell": {
     "cellMetadata": {
      "byteLimit": 2048000,
      "rowLimit": 10000
     },
     "inputWidgets": {},
     "nuid": "5ccb430a-5b72-4d01-b0ea-9fc75756df13",
     "showTitle": false,
     "tableResultSettingsMap": {},
     "title": ""
    }
   },
   "outputs": [
    {
     "output_type": "stream",
     "name": "stderr",
     "output_type": "stream",
     "text": [
      "2025-07-01 10:05:09,794 — velocity.utils.spark_utils — INFO — Using the following default configs you may want to override them for your job: {'spark.databricks.delta.optimizeWrite.enabled': True, 'spark.sql.adaptive.enabled': True, 'spark.databricks.delta.merge.enableLowShuffle': True, 'spark.databricks.delta.schema.autoMerge.enabled': True, 'spark.secret_scope': 'kv-velocity', 'spark.metadata_store_mode': 'RDBMS', 'spark.credentials_store_mode': 'DATABRICKS'}\nINFO:velocity.utils.spark_utils:Using the following default configs you may want to override them for your job: {'spark.databricks.delta.optimizeWrite.enabled': True, 'spark.sql.adaptive.enabled': True, 'spark.databricks.delta.merge.enableLowShuffle': True, 'spark.databricks.delta.schema.autoMerge.enabled': True, 'spark.secret_scope': 'kv-velocity', 'spark.metadata_store_mode': 'RDBMS', 'spark.credentials_store_mode': 'DATABRICKS'}\n2025-07-01 10:05:09,796 — velocity.utils.spark_utils — INFO — Final config is: {'spark.databricks.delta.optimizeWrite.enabled': True, 'spark.sql.adaptive.enabled': True, 'spark.databricks.delta.merge.enableLowShuffle': True, 'spark.databricks.delta.schema.autoMerge.enabled': True, 'spark.secret_scope': 'kv-velocity', 'spark.metadata_store_mode': 'RDBMS', 'spark.credentials_store_mode': 'DATABRICKS'}\nINFO:velocity.utils.spark_utils:Final config is: {'spark.databricks.delta.optimizeWrite.enabled': True, 'spark.sql.adaptive.enabled': True, 'spark.databricks.delta.merge.enableLowShuffle': True, 'spark.databricks.delta.schema.autoMerge.enabled': True, 'spark.secret_scope': 'kv-velocity', 'spark.metadata_store_mode': 'RDBMS', 'spark.credentials_store_mode': 'DATABRICKS'}\n2025-07-01 10:05:09,818 — velocity.utils.spark_utils — INFO — Detected active session: Databricks Shell\nINFO:velocity.utils.spark_utils:Detected active session: Databricks Shell\n"
     ]
    }
   ],
   "source": [
    "from velocity.executor.notebook_executor import NotebookExecutor "
   ]
  },
  {
   "cell_type": "markdown",
   "metadata": {
    "application/vnd.databricks.v1+cell": {
     "cellMetadata": {},
     "inputWidgets": {},
     "nuid": "0a155149-f976-4eaf-ba3a-b18ebccfd588",
     "showTitle": false,
     "tableResultSettingsMap": {},
     "title": ""
    }
   },
   "source": [
    "## Input Defination"
   ]
  },
  {
   "cell_type": "code",
   "execution_count": 0,
   "metadata": {
    "application/vnd.databricks.v1+cell": {
     "cellMetadata": {
      "byteLimit": 2048000,
      "rowLimit": 10000
     },
     "inputWidgets": {},
     "nuid": "98b2cd1e-26a8-45c4-9c45-d6877efcd126",
     "showTitle": false,
     "tableResultSettingsMap": {},
     "title": ""
    }
   },
   "outputs": [],
   "source": [
    "# Define the input data sources\n",
    "input = {\n",
    "    \"BRONZE\": [\n",
    "        {\n",
    "            \"sales_orders\": {\n",
    "                \"alias\": \"sales_orders\",\n",
    "                \"catalog\": \"lakehouse_vy\",\n",
    "                \"schema\": \"bronze\",\n",
    "                \"read_method\": {\n",
    "                    \"incremental_read\": True,\n",
    "                    \"override_watermark\": False, \n",
    "                    \"watermark_column\":\"inserted\",     \n",
    "                    \"watermark_column_datatype\":\"DATETIME2\",\n",
    "                },\n",
    "                \"versioning\": {\n",
    "                    \"last_instance\": True,\n",
    "                    \"order_by\": [\"LastEditedWhen\", \"inserted\"],\n",
    "                    \"sort_desc\": True,\n",
    "                    \"partition_by\": [\"OrderID\"]\n",
    "                }\n",
    "            },\n",
    "            \"sales_orderlines\": {\n",
    "                \"catalog\": \"lakehouse_vy\",\n",
    "                \"schema\": \"bronze\",\n",
    "                \"read_method\": {\n",
    "                    \"incremental_read\": True,\n",
    "                    \"override_watermark\": False, \n",
    "                    \"watermark_column\":\"inserted\",     \n",
    "                    \"watermark_column_datatype\":\"DATETIME2\",\n",
    "                },\n",
    "                \"exclude_soft_deleted\": False,\n",
    "                \"versioning\": {\n",
    "                    \"last_instance\": True,\n",
    "                    \"order_by\": [\"LastEditedWhen\", \"inserted\"],\n",
    "                    \"sort_desc\": True,\n",
    "                    \"partition_by\": [\"OrderLineID\"]\n",
    "                }\n",
    "            }\n",
    "        }\n",
    "    ]\n",
    "}"
   ]
  },
  {
   "cell_type": "markdown",
   "metadata": {
    "application/vnd.databricks.v1+cell": {
     "cellMetadata": {
      "byteLimit": 2048000,
      "rowLimit": 10000
     },
     "inputWidgets": {},
     "nuid": "b736d7ae-81f1-4a85-bd21-6732b6e3dc54",
     "showTitle": false,
     "tableResultSettingsMap": {},
     "title": ""
    }
   },
   "source": [
    "# Debug step for data discovery\n",
    "Build views using the defined input data sources."
   ]
  },
  {
   "cell_type": "code",
   "execution_count": 0,
   "metadata": {
    "application/vnd.databricks.v1+cell": {
     "cellMetadata": {
      "byteLimit": 2048000,
      "rowLimit": 10000
     },
     "inputWidgets": {},
     "nuid": "cb964ffc-37f3-47ec-8451-a837bc3054e7",
     "showTitle": false,
     "tableResultSettingsMap": {},
     "title": ""
    }
   },
   "outputs": [
    {
     "output_type": "stream",
     "name": "stderr",
     "output_type": "stream",
     "text": [
      "2025-07-01 10:05:17,252 — velocity.utils.metadata_factory — INFO — Build Landing View: []\nINFO:velocity.utils.metadata_factory:Build Landing View: []\n2025-07-01 10:05:17,256 — velocity.utils.metadata_factory — INFO — read method: read_delta_standard\nINFO:velocity.utils.metadata_factory:read method: read_delta_standard\n"
     ]
    },
    {
     "output_type": "stream",
     "name": "stdout",
     "output_type": "stream",
     "text": [
      "['*']\n['*']\n"
     ]
    },
    {
     "output_type": "stream",
     "name": "stderr",
     "output_type": "stream",
     "text": [
      "2025-07-01 10:05:41,126 — velocity.utils.metadata_factory — INFO — read method: read_delta_standard\nINFO:velocity.utils.metadata_factory:read method: read_delta_standard\n"
     ]
    },
    {
     "output_type": "stream",
     "name": "stdout",
     "output_type": "stream",
     "text": [
      "read_perser select expression: [Column<'dense_rank() OVER (PARTITION BY OrderID ORDER BY LastEditedWhen DESC NULLS LAST, inserted DESC NULLS LAST unspecifiedframe$()) AS rank_col'>, Column<'unresolvedstar()'>]\nwatermark column: inserted\nfinal filter condition: Column<'and(and(true, `=`(rank_col, 1)), `>`(inserted, 2025-03-10 11:45:16.233359))'>\n['*']\n['*']\n"
     ]
    },
    {
     "output_type": "stream",
     "name": "stderr",
     "output_type": "stream",
     "text": [
      "2025-07-01 10:05:42,864 — velocity.utils.metadata_factory — INFO — Build View: [<velocity.metadata.delta_table_watermark.DeltaTableWatermark object at 0x71c265bc99d0>, <velocity.metadata.delta_table_watermark.DeltaTableWatermark object at 0x71c264fea610>]\nINFO:velocity.utils.metadata_factory:Build View: [<velocity.metadata.delta_table_watermark.DeltaTableWatermark object at 0x71c265bc99d0>, <velocity.metadata.delta_table_watermark.DeltaTableWatermark object at 0x71c264fea610>]\n2025-07-01 10:05:42,866 — velocity.utils.metadata_factory — INFO — Build Bronze View: [<velocity.metadata.delta_table_watermark.DeltaTableWatermark object at 0x71c265bc99d0>, <velocity.metadata.delta_table_watermark.DeltaTableWatermark object at 0x71c264fea610>]\nINFO:velocity.utils.metadata_factory:Build Bronze View: [<velocity.metadata.delta_table_watermark.DeltaTableWatermark object at 0x71c265bc99d0>, <velocity.metadata.delta_table_watermark.DeltaTableWatermark object at 0x71c264fea610>]\n2025-07-01 10:05:42,868 — velocity.utils.metadata_factory — INFO — Build Silver View: [<velocity.metadata.delta_table_watermark.DeltaTableWatermark object at 0x71c265bc99d0>, <velocity.metadata.delta_table_watermark.DeltaTableWatermark object at 0x71c264fea610>]\nINFO:velocity.utils.metadata_factory:Build Silver View: [<velocity.metadata.delta_table_watermark.DeltaTableWatermark object at 0x71c265bc99d0>, <velocity.metadata.delta_table_watermark.DeltaTableWatermark object at 0x71c264fea610>]\n2025-07-01 10:05:42,869 — velocity.utils.metadata_factory — INFO — Build Silver View: [<velocity.metadata.delta_table_watermark.DeltaTableWatermark object at 0x71c265bc99d0>, <velocity.metadata.delta_table_watermark.DeltaTableWatermark object at 0x71c264fea610>]\nINFO:velocity.utils.metadata_factory:Build Silver View: [<velocity.metadata.delta_table_watermark.DeltaTableWatermark object at 0x71c265bc99d0>, <velocity.metadata.delta_table_watermark.DeltaTableWatermark object at 0x71c264fea610>]\n"
     ]
    },
    {
     "output_type": "stream",
     "name": "stdout",
     "output_type": "stream",
     "text": [
      "read_perser select expression: [Column<'dense_rank() OVER (PARTITION BY OrderLineID ORDER BY LastEditedWhen DESC NULLS LAST, inserted DESC NULLS LAST unspecifiedframe$()) AS rank_col'>, Column<'unresolvedstar()'>]\nwatermark column: inserted\nfinal filter condition: Column<'and(and(true, `=`(rank_col, 1)), `>`(inserted, 2025-03-10 11:45:18.954820))'>\n"
     ]
    },
    {
     "output_type": "execute_result",
     "data": {
      "text/plain": [
       "[<velocity.metadata.delta_table_watermark.DeltaTableWatermark at 0x71c265bc99d0>,\n",
       " <velocity.metadata.delta_table_watermark.DeltaTableWatermark at 0x71c264fea610>]"
      ]
     },
     "execution_count": 3,
     "metadata": {},
     "output_type": "execute_result"
    }
   ],
   "source": [
    "NotebookExecutor.build_views(input)"
   ]
  },
  {
   "cell_type": "code",
   "execution_count": 0,
   "metadata": {
    "application/vnd.databricks.v1+cell": {
     "cellMetadata": {
      "byteLimit": 2048000,
      "implicitDf": true,
      "rowLimit": 10000
     },
     "inputWidgets": {},
     "nuid": "f9da3cec-706c-47ed-bbbf-908da12705f5",
     "showTitle": false,
     "tableResultSettingsMap": {},
     "title": ""
    }
   },
   "outputs": [
    {
     "output_type": "display_data",
     "data": {
      "text/html": [
       "<style scoped>\n",
       "  .table-result-container {\n",
       "    max-height: 300px;\n",
       "    overflow: auto;\n",
       "  }\n",
       "  table, th, td {\n",
       "    border: 1px solid black;\n",
       "    border-collapse: collapse;\n",
       "  }\n",
       "  th, td {\n",
       "    padding: 5px;\n",
       "  }\n",
       "  th {\n",
       "    text-align: left;\n",
       "  }\n",
       "</style><div class='table-result-container'><table class='table-result'><thead style='background-color: white'><tr><th>rank_col</th><th>OrderID</th><th>CustomerID</th><th>SalespersonPersonID</th><th>PickedByPersonID</th><th>ContactPersonID</th><th>BackorderOrderID</th><th>OrderDate</th><th>ExpectedDeliveryDate</th><th>CustomerPurchaseOrderNumber</th><th>IsUndersupplyBackordered</th><th>Comments</th><th>DeliveryInstructions</th><th>InternalComments</th><th>PickingCompletedWhen</th><th>LastEditedBy</th><th>LastEditedWhen</th><th>inserted</th><th>updated</th><th>deleted</th><th>watermark_value</th></tr></thead><tbody><tr><td>1</td><td>1</td><td>830</td><td>2</td><td>null</td><td>3032</td><td>45</td><td>2013-01-01</td><td>2013-01-02</td><td>12126</td><td>1</td><td>null</td><td>null</td><td>null</td><td>2013-01-01 12:00:00.0000000</td><td>7</td><td>2025-03-10 11:15:58.1400000</td><td>2025-03-12T08:15:22.70632Z</td><td>2025-03-12T08:15:22.706323Z</td><td>2025-03-10T11:15:58.14Z</td><td>2025-03-10 11:45:16.233359</td></tr></tbody></table></div>"
      ]
     },
     "metadata": {
      "application/vnd.databricks.v1+output": {
       "addedWidgets": {},
       "aggData": [],
       "aggError": "",
       "aggOverflow": false,
       "aggSchema": [],
       "aggSeriesLimitReached": false,
       "aggType": "",
       "arguments": {},
       "columnCustomDisplayInfos": {},
       "data": [
        [
         1,
         "1",
         "830",
         "2",
         null,
         "3032",
         "45",
         "2013-01-01",
         "2013-01-02",
         "12126",
         "1",
         null,
         null,
         null,
         "2013-01-01 12:00:00.0000000",
         "7",
         "2025-03-10 11:15:58.1400000",
         "2025-03-12T08:15:22.70632Z",
         "2025-03-12T08:15:22.706323Z",
         "2025-03-10T11:15:58.14Z",
         "2025-03-10 11:45:16.233359"
        ]
       ],
       "datasetInfos": [],
       "dbfsResultPath": null,
       "isJsonSchema": true,
       "metadata": {
        "createTempViewForImplicitDf": true,
        "dataframeName": "_sqldf",
        "executionCount": 4
       },
       "overflow": false,
       "plotOptions": {
        "customPlotOptions": {},
        "displayType": "table",
        "pivotAggregation": null,
        "pivotColumns": null,
        "xColumns": null,
        "yColumns": null
       },
       "removedWidgets": [],
       "schema": [
        {
         "metadata": "{}",
         "name": "rank_col",
         "type": "\"integer\""
        },
        {
         "metadata": "{}",
         "name": "OrderID",
         "type": "\"string\""
        },
        {
         "metadata": "{}",
         "name": "CustomerID",
         "type": "\"string\""
        },
        {
         "metadata": "{}",
         "name": "SalespersonPersonID",
         "type": "\"string\""
        },
        {
         "metadata": "{}",
         "name": "PickedByPersonID",
         "type": "\"string\""
        },
        {
         "metadata": "{}",
         "name": "ContactPersonID",
         "type": "\"string\""
        },
        {
         "metadata": "{}",
         "name": "BackorderOrderID",
         "type": "\"string\""
        },
        {
         "metadata": "{}",
         "name": "OrderDate",
         "type": "\"string\""
        },
        {
         "metadata": "{}",
         "name": "ExpectedDeliveryDate",
         "type": "\"string\""
        },
        {
         "metadata": "{}",
         "name": "CustomerPurchaseOrderNumber",
         "type": "\"string\""
        },
        {
         "metadata": "{}",
         "name": "IsUndersupplyBackordered",
         "type": "\"string\""
        },
        {
         "metadata": "{}",
         "name": "Comments",
         "type": "\"string\""
        },
        {
         "metadata": "{}",
         "name": "DeliveryInstructions",
         "type": "\"string\""
        },
        {
         "metadata": "{}",
         "name": "InternalComments",
         "type": "\"string\""
        },
        {
         "metadata": "{}",
         "name": "PickingCompletedWhen",
         "type": "\"string\""
        },
        {
         "metadata": "{}",
         "name": "LastEditedBy",
         "type": "\"string\""
        },
        {
         "metadata": "{}",
         "name": "LastEditedWhen",
         "type": "\"string\""
        },
        {
         "metadata": "{}",
         "name": "inserted",
         "type": "\"timestamp\""
        },
        {
         "metadata": "{}",
         "name": "updated",
         "type": "\"timestamp\""
        },
        {
         "metadata": "{}",
         "name": "deleted",
         "type": "\"timestamp\""
        },
        {
         "metadata": "{}",
         "name": "watermark_value",
         "type": "\"string\""
        }
       ],
       "type": "table"
      }
     },
     "output_type": "display_data"
    }
   ],
   "source": [
    "%sql\n",
    "select * from vw_sales_orders where OrderID = 1"
   ]
  },
  {
   "cell_type": "markdown",
   "metadata": {
    "application/vnd.databricks.v1+cell": {
     "cellMetadata": {
      "byteLimit": 2048000,
      "rowLimit": 10000
     },
     "inputWidgets": {},
     "nuid": "b04b2dae-cc65-46ce-b117-e02059bf07f4",
     "showTitle": false,
     "tableResultSettingsMap": {},
     "title": ""
    }
   },
   "source": [
    "# Define Logic: Load to Silver Layer using SQL\n",
    "##### - Handle missing values\n",
    "##### - Covert data to correct types\n",
    "\n",
    "The temporary view vw_source_set will be used as the reference when writing the output."
   ]
  },
  {
   "cell_type": "code",
   "execution_count": 0,
   "metadata": {
    "application/vnd.databricks.v1+cell": {
     "cellMetadata": {
      "byteLimit": 2048000,
      "implicitDf": true,
      "rowLimit": 10000
     },
     "inputWidgets": {},
     "nuid": "0f1f5ee3-54ff-4a85-8e36-4bc074b27082",
     "showTitle": false,
     "tableResultSettingsMap": {},
     "title": ""
    }
   },
   "outputs": [
    {
     "output_type": "display_data",
     "data": {
      "text/html": [
       "<style scoped>\n",
       "  .table-result-container {\n",
       "    max-height: 300px;\n",
       "    overflow: auto;\n",
       "  }\n",
       "  table, th, td {\n",
       "    border: 1px solid black;\n",
       "    border-collapse: collapse;\n",
       "  }\n",
       "  th, td {\n",
       "    padding: 5px;\n",
       "  }\n",
       "  th {\n",
       "    text-align: left;\n",
       "  }\n",
       "</style><div class='table-result-container'><table class='table-result'><thead style='background-color: white'><tr><th>OrderLineID</th><th>OrderID</th><th>CustomerID</th><th>BackorderOrderID</th><th>OrderDate</th><th>ExpectedDeliveryDate</th><th>CustomerPurchaseOrderNumber</th><th>IsUndersupplyBackordered</th><th>PickingCompletedWhen</th><th>StockItemID</th><th>Description</th><th>Quantity</th><th>UnitPrice</th><th>TaxRate</th><th>PickedQuantity</th><th>LinePickingCompletedWhen</th></tr></thead><tbody><tr><td>2</td><td>1</td><td>null</td><td>-1</td><td>null</td><td>null</td><td>null</td><td>null</td><td>1900-01-01T00:00:00Z</td><td>67</td><td>Ride on toy sedan car (Black) 1/12 scale</td><td>10</td><td>230.00</td><td>15.000</td><td>10</td><td>2013-01-01T11:00:00Z</td></tr></tbody></table></div>"
      ]
     },
     "metadata": {
      "application/vnd.databricks.v1+output": {
       "addedWidgets": {},
       "aggData": [],
       "aggError": "",
       "aggOverflow": false,
       "aggSchema": [],
       "aggSeriesLimitReached": false,
       "aggType": "",
       "arguments": {},
       "columnCustomDisplayInfos": {},
       "data": [
        [
         2,
         1,
         null,
         -1,
         null,
         null,
         null,
         null,
         "1900-01-01T00:00:00Z",
         67,
         "Ride on toy sedan car (Black) 1/12 scale",
         10,
         "230.00",
         "15.000",
         10,
         "2013-01-01T11:00:00Z"
        ]
       ],
       "datasetInfos": [],
       "dbfsResultPath": null,
       "isJsonSchema": true,
       "metadata": {
        "dataframeName": "_sqldf",
        "executionCount": 72
       },
       "overflow": false,
       "plotOptions": {
        "customPlotOptions": {},
        "displayType": "table",
        "pivotAggregation": null,
        "pivotColumns": null,
        "xColumns": null,
        "yColumns": null
       },
       "removedWidgets": [],
       "schema": [
        {
         "metadata": "{}",
         "name": "OrderLineID",
         "type": "\"integer\""
        },
        {
         "metadata": "{}",
         "name": "OrderID",
         "type": "\"integer\""
        },
        {
         "metadata": "{}",
         "name": "CustomerID",
         "type": "\"integer\""
        },
        {
         "metadata": "{}",
         "name": "BackorderOrderID",
         "type": "\"integer\""
        },
        {
         "metadata": "{}",
         "name": "OrderDate",
         "type": "\"date\""
        },
        {
         "metadata": "{}",
         "name": "ExpectedDeliveryDate",
         "type": "\"date\""
        },
        {
         "metadata": "{}",
         "name": "CustomerPurchaseOrderNumber",
         "type": "\"string\""
        },
        {
         "metadata": "{}",
         "name": "IsUndersupplyBackordered",
         "type": "\"boolean\""
        },
        {
         "metadata": "{}",
         "name": "PickingCompletedWhen",
         "type": "\"timestamp\""
        },
        {
         "metadata": "{}",
         "name": "StockItemID",
         "type": "\"integer\""
        },
        {
         "metadata": "{}",
         "name": "Description",
         "type": "\"string\""
        },
        {
         "metadata": "{}",
         "name": "Quantity",
         "type": "\"integer\""
        },
        {
         "metadata": "{}",
         "name": "UnitPrice",
         "type": "\"decimal(18,2)\""
        },
        {
         "metadata": "{}",
         "name": "TaxRate",
         "type": "\"decimal(18,3)\""
        },
        {
         "metadata": "{}",
         "name": "PickedQuantity",
         "type": "\"integer\""
        },
        {
         "metadata": "{}",
         "name": "LinePickingCompletedWhen",
         "type": "\"timestamp\""
        }
       ],
       "type": "table"
      }
     },
     "output_type": "display_data"
    }
   ],
   "source": [
    "%sql\n",
    "select * from vw_source_set where OrderID = 1"
   ]
  },
  {
   "cell_type": "code",
   "execution_count": 0,
   "metadata": {
    "application/vnd.databricks.v1+cell": {
     "cellMetadata": {
      "byteLimit": 2048000,
      "rowLimit": 10000
     },
     "inputWidgets": {},
     "nuid": "3af8afe0-b139-4cb8-ba9b-c2e038350686",
     "showTitle": false,
     "tableResultSettingsMap": {},
     "title": ""
    }
   },
   "outputs": [],
   "source": [
    "sql_logic = \"\"\"\n",
    "CREATE OR REPLACE TEMPORARY VIEW vw_source_set\n",
    "AS\n",
    "SELECT \n",
    "    CAST(ol.OrderLineID AS INT) AS OrderLineID,\n",
    "    CAST(ol.OrderID AS INT) AS OrderID,\n",
    "    CAST(so.CustomerID AS INT) AS CustomerID,\n",
    "    COALESCE(CAST(so.BackorderOrderID AS INT), -1) AS BackorderOrderID,\n",
    "    CAST(so.OrderDate AS DATE) AS OrderDate,\n",
    "    CAST(so.ExpectedDeliveryDate AS DATE) AS ExpectedDeliveryDate,\n",
    "    CAST(so.CustomerPurchaseOrderNumber AS STRING) AS CustomerPurchaseOrderNumber,\n",
    "    CAST(so.IsUndersupplyBackordered AS BOOLEAN) AS IsUndersupplyBackordered,\n",
    "    COALESCE(CAST(so.PickingCompletedWhen AS TIMESTAMP), TIMESTAMP('1900-01-01 00:00:00')) AS PickingCompletedWhen,\n",
    "    CAST(ol.StockItemID AS INT) AS StockItemID,\n",
    "    CAST(ol.Description AS STRING) AS Description,\n",
    "    CAST(ol.Quantity AS INT) AS Quantity,\n",
    "    CAST(ol.UnitPrice AS DECIMAL(18, 2)) AS UnitPrice,\n",
    "    CAST(ol.TaxRate AS DECIMAL(18, 3)) AS TaxRate,\n",
    "    CAST(ol.PickedQuantity AS INT) AS PickedQuantity,\n",
    "    CAST(ol.PickingCompletedWhen AS TIMESTAMP) AS LinePickingCompletedWhen\n",
    "FROM\n",
    "    vw_sales_orderlines ol\n",
    "LEFT JOIN\n",
    "    vw_sales_orders so\n",
    "ON\n",
    "    ol.OrderID = so.OrderID\n",
    "\"\"\""
   ]
  },
  {
   "cell_type": "code",
   "execution_count": 0,
   "metadata": {
    "application/vnd.databricks.v1+cell": {
     "cellMetadata": {
      "byteLimit": 2048000,
      "rowLimit": 10000
     },
     "inputWidgets": {},
     "nuid": "2d7c4a32-df36-4f1c-90dc-07c1d3440cc0",
     "showTitle": false,
     "tableResultSettingsMap": {},
     "title": ""
    }
   },
   "outputs": [],
   "source": [
    "output: map = {\n",
    "    \"orders\" : {\n",
    "        \"catalog\": \"lakehouse_vy\",\n",
    "        \"schema\": \"silver\",\n",
    "        \"target_type\": \"SILVER\",\n",
    "        \"write_mode\": \"INSERT_ONLY\",  \n",
    "        \"composite_key\": [\"OrderID\",\"OrderLineID\"], \n",
    "        }\n",
    "}\n"
   ]
  },
  {
   "cell_type": "code",
   "execution_count": 0,
   "metadata": {
    "application/vnd.databricks.v1+cell": {
     "cellMetadata": {
      "byteLimit": 2048000,
      "rowLimit": 10000
     },
     "inputWidgets": {},
     "nuid": "04b3b970-f8c8-47ed-9750-7a7520c45210",
     "showTitle": false,
     "tableResultSettingsMap": {},
     "title": ""
    }
   },
   "outputs": [
    {
     "output_type": "stream",
     "name": "stderr",
     "output_type": "stream",
     "text": [
      "2025-07-01 10:06:05,179 — velocity.utils.metadata_factory — INFO — Build Landing View: []\nINFO:velocity.utils.metadata_factory:Build Landing View: []\n2025-07-01 10:06:05,181 — velocity.utils.metadata_factory — INFO — read method: read_delta_standard\nINFO:velocity.utils.metadata_factory:read method: read_delta_standard\n"
     ]
    },
    {
     "output_type": "stream",
     "name": "stdout",
     "output_type": "stream",
     "text": [
      "['*']\n['*']\n"
     ]
    },
    {
     "output_type": "stream",
     "name": "stderr",
     "output_type": "stream",
     "text": [
      "2025-07-01 10:06:07,106 — velocity.utils.metadata_factory — INFO — read method: read_delta_standard\nINFO:velocity.utils.metadata_factory:read method: read_delta_standard\n"
     ]
    },
    {
     "output_type": "stream",
     "name": "stdout",
     "output_type": "stream",
     "text": [
      "read_perser select expression: [Column<'dense_rank() OVER (PARTITION BY OrderID ORDER BY LastEditedWhen DESC NULLS LAST, inserted DESC NULLS LAST unspecifiedframe$()) AS rank_col'>, Column<'unresolvedstar()'>]\nwatermark column: inserted\nfinal filter condition: Column<'and(and(true, `=`(rank_col, 1)), `>`(inserted, 2025-03-10 11:45:16.233359))'>\n['*']\n['*']\n"
     ]
    },
    {
     "output_type": "stream",
     "name": "stderr",
     "output_type": "stream",
     "text": [
      "2025-07-01 10:06:08,507 — velocity.utils.metadata_factory — INFO — Build View: [<velocity.metadata.delta_table_watermark.DeltaTableWatermark object at 0x71c2652a5190>, <velocity.metadata.delta_table_watermark.DeltaTableWatermark object at 0x71c264e32310>]\nINFO:velocity.utils.metadata_factory:Build View: [<velocity.metadata.delta_table_watermark.DeltaTableWatermark object at 0x71c2652a5190>, <velocity.metadata.delta_table_watermark.DeltaTableWatermark object at 0x71c264e32310>]\n2025-07-01 10:06:08,508 — velocity.utils.metadata_factory — INFO — Build Bronze View: [<velocity.metadata.delta_table_watermark.DeltaTableWatermark object at 0x71c2652a5190>, <velocity.metadata.delta_table_watermark.DeltaTableWatermark object at 0x71c264e32310>]\nINFO:velocity.utils.metadata_factory:Build Bronze View: [<velocity.metadata.delta_table_watermark.DeltaTableWatermark object at 0x71c2652a5190>, <velocity.metadata.delta_table_watermark.DeltaTableWatermark object at 0x71c264e32310>]\n2025-07-01 10:06:08,509 — velocity.utils.metadata_factory — INFO — Build Silver View: [<velocity.metadata.delta_table_watermark.DeltaTableWatermark object at 0x71c2652a5190>, <velocity.metadata.delta_table_watermark.DeltaTableWatermark object at 0x71c264e32310>]\nINFO:velocity.utils.metadata_factory:Build Silver View: [<velocity.metadata.delta_table_watermark.DeltaTableWatermark object at 0x71c2652a5190>, <velocity.metadata.delta_table_watermark.DeltaTableWatermark object at 0x71c264e32310>]\n2025-07-01 10:06:08,510 — velocity.utils.metadata_factory — INFO — Build Silver View: [<velocity.metadata.delta_table_watermark.DeltaTableWatermark object at 0x71c2652a5190>, <velocity.metadata.delta_table_watermark.DeltaTableWatermark object at 0x71c264e32310>]\nINFO:velocity.utils.metadata_factory:Build Silver View: [<velocity.metadata.delta_table_watermark.DeltaTableWatermark object at 0x71c2652a5190>, <velocity.metadata.delta_table_watermark.DeltaTableWatermark object at 0x71c264e32310>]\n"
     ]
    },
    {
     "output_type": "stream",
     "name": "stdout",
     "output_type": "stream",
     "text": [
      "read_perser select expression: [Column<'dense_rank() OVER (PARTITION BY OrderLineID ORDER BY LastEditedWhen DESC NULLS LAST, inserted DESC NULLS LAST unspecifiedframe$()) AS rank_col'>, Column<'unresolvedstar()'>]\nwatermark column: inserted\nfinal filter condition: Column<'and(and(true, `=`(rank_col, 1)), `>`(inserted, 2025-03-10 11:45:18.954820))'>\n"
     ]
    },
    {
     "output_type": "stream",
     "name": "stderr",
     "output_type": "stream",
     "text": [
      "2025-07-01 10:06:08,665 — velocity.utils.metadata_factory — INFO — target format: UNITY_TABLE\nINFO:velocity.utils.metadata_factory:target format: UNITY_TABLE\n2025-07-01 10:06:08,666 — velocity.utils.metadata_factory — INFO — target layer: SILVER\nINFO:velocity.utils.metadata_factory:target layer: SILVER\nINFO:velocity.dataset.abs_dataset:output columns: ['inserted', 'updated', 'deleted', 'keyHash', 'rowHash', 'OrderLineID', 'OrderID', 'CustomerID', 'BackorderOrderID', 'OrderDate', 'ExpectedDeliveryDate', 'CustomerPurchaseOrderNumber', 'IsUndersupplyBackordered', 'PickingCompletedWhen', 'StockItemID', 'Description', 'Quantity', 'UnitPrice', 'TaxRate', 'PickedQuantity', 'LinePickingCompletedWhen']\nINFO:velocity.dataset.abs_dataset:result output columns: ['inserted', 'updated', 'deleted', 'keyHash', 'rowHash', 'OrderLineID', 'OrderID', 'CustomerID', 'BackorderOrderID', 'OrderDate', 'ExpectedDeliveryDate', 'CustomerPurchaseOrderNumber', 'IsUndersupplyBackordered', 'PickingCompletedWhen', 'StockItemID', 'Description', 'Quantity', 'UnitPrice', 'TaxRate', 'PickedQuantity', 'LinePickingCompletedWhen']\nINFO:velocity.dataset.abs_dataset:result output columns: ['inserted', 'updated', 'deleted', 'keyHash', 'rowHash', 'OrderLineID', 'OrderID', 'CustomerID', 'BackorderOrderID', 'OrderDate', 'ExpectedDeliveryDate', 'CustomerPurchaseOrderNumber', 'IsUndersupplyBackordered', 'PickingCompletedWhen', 'StockItemID', 'Description', 'Quantity', 'UnitPrice', 'TaxRate', 'PickedQuantity', 'LinePickingCompletedWhen']\nINFO:velocity.dataset.abs_dataset:source: ['inserted', 'updated', 'deleted', 'keyHash', 'rowHash', 'OrderLineID', 'OrderID', 'CustomerID', 'BackorderOrderID', 'OrderDate', 'ExpectedDeliveryDate', 'CustomerPurchaseOrderNumber', 'IsUndersupplyBackordered', 'PickingCompletedWhen', 'StockItemID', 'Description', 'Quantity', 'UnitPrice', 'TaxRate', 'PickedQuantity', 'LinePickingCompletedWhen']\nINFO:velocity.dataset.abs_dataset:source: ['inserted', 'updated', 'deleted', 'keyHash', 'rowHash', 'OrderLineID', 'OrderID', 'CustomerID', 'BackorderOrderID', 'OrderDate', 'ExpectedDeliveryDate', 'CustomerPurchaseOrderNumber', 'IsUndersupplyBackordered', 'PickingCompletedWhen', 'StockItemID', 'Description', 'Quantity', 'UnitPrice', 'TaxRate', 'PickedQuantity', 'LinePickingCompletedWhen']\nINFO:velocity.dataset.abs_dataset:result output columns: ['inserted', 'updated', 'deleted', 'keyHash', 'rowHash', 'OrderLineID', 'OrderID', 'CustomerID', 'BackorderOrderID', 'OrderDate', 'ExpectedDeliveryDate', 'CustomerPurchaseOrderNumber', 'IsUndersupplyBackordered', 'PickingCompletedWhen', 'StockItemID', 'Description', 'Quantity', 'UnitPrice', 'TaxRate', 'PickedQuantity', 'LinePickingCompletedWhen']\n2025-07-01 10:06:27,424 — velocity.metadata.abs_watermark — INFO — watermark value to be written: 2025-07-01 10:06:05.183351\nINFO:velocity.metadata.abs_watermark:watermark value to be written: 2025-07-01 10:06:05.183351\n2025-07-01 10:06:33,917 — velocity.metadata.abs_watermark — INFO — watermark value to be written: 2025-07-01 10:06:07.116256\nINFO:velocity.metadata.abs_watermark:watermark value to be written: 2025-07-01 10:06:07.116256\n"
     ]
    }
   ],
   "source": [
    "NotebookExecutor.execute(input, sql_logic, output)"
   ]
  },
  {
   "cell_type": "code",
   "execution_count": 0,
   "metadata": {
    "application/vnd.databricks.v1+cell": {
     "cellMetadata": {
      "byteLimit": 2048000,
      "implicitDf": true,
      "rowLimit": 10000
     },
     "inputWidgets": {},
     "nuid": "1e2816df-df18-44af-ad57-ae19e59c1c06",
     "showTitle": false,
     "tableResultSettingsMap": {},
     "title": ""
    }
   },
   "outputs": [],
   "source": [
    "# %sql\n",
    "# truncate table lakehouse_vy.bronze.sales_orders_bronze;\n",
    "# truncate table lakehouse_vy.bronze.sales_orderlines_bronze;\n",
    "# truncate table lakehouse_vy.bronze.sales_customers_bronze;\n",
    "# truncate table lakehouse_vy.bronze.warehouse_stockitems_bronze"
   ]
  },
  {
   "cell_type": "code",
   "execution_count": 0,
   "metadata": {
    "application/vnd.databricks.v1+cell": {
     "cellMetadata": {
      "byteLimit": 2048000,
      "implicitDf": true,
      "rowLimit": 10000
     },
     "inputWidgets": {},
     "nuid": "c879f9f0-4ba7-4703-94c6-dc2d75c98080",
     "showTitle": false,
     "tableResultSettingsMap": {},
     "title": ""
    }
   },
   "outputs": [
    {
     "output_type": "display_data",
     "data": {
      "text/html": [
       "<style scoped>\n",
       "  .table-result-container {\n",
       "    max-height: 300px;\n",
       "    overflow: auto;\n",
       "  }\n",
       "  table, th, td {\n",
       "    border: 1px solid black;\n",
       "    border-collapse: collapse;\n",
       "  }\n",
       "  th, td {\n",
       "    padding: 5px;\n",
       "  }\n",
       "  th {\n",
       "    text-align: left;\n",
       "  }\n",
       "</style><div class='table-result-container'><table class='table-result'><thead style='background-color: white'><tr><th>inserted_timestamp</th><th>watermark_id</th><th>watermark_column</th><th>watermark_datatype</th><th>watermark_value</th></tr></thead><tbody><tr><td>2025-07-01T10:06:33.923348Z</td><td>/Users/vy.phan@bizone.com.vn/SILVER/load to silver layer_orders__BRONZE_bronze_sales_orderlines_BRONZE</td><td>inserted</td><td>DATETIME2</td><td>2025-07-01 10:06:07.116256</td></tr><tr><td>2025-07-01T10:06:27.425124Z</td><td>/Users/vy.phan@bizone.com.vn/SILVER/load to silver layer_orders__BRONZE_bronze_sales_orders_BRONZE</td><td>inserted</td><td>DATETIME2</td><td>2025-07-01 10:06:05.183351</td></tr><tr><td>2025-04-17T08:49:31.096796Z</td><td>/Users/khoa.ly.dang@bizone.com.vn/silver/load-to-silver_purchaseorders__BRONZE_bronze_purchasing_purchaseorderlines_BRONZE</td><td>inserted</td><td>DATETIME2</td><td>2025-04-17 08:49:20.935993</td></tr><tr><td>2025-04-17T08:49:28.112785Z</td><td>/Users/khoa.ly.dang@bizone.com.vn/silver/load-to-silver_purchaseorders__BRONZE_bronze_purchasing_purchaseorders_BRONZE</td><td>inserted</td><td>DATETIME2</td><td>2025-04-17 08:49:18.935946</td></tr><tr><td>2025-04-17T07:49:38.276485Z</td><td>/Users/khoa.ly.dang@bizone.com.vn/gold/load-to-gold_purchaseorders_fact__SILVER_silver_purchaseorders_SILVER</td><td>inserted</td><td>DATETIME2</td><td>2025-04-17 07:49:26.710962</td></tr><tr><td>2025-04-17T07:48:53.558891Z</td><td>/Users/khoa.ly.dang@bizone.com.vn/silver/load-to-silver_purchaseorders__BRONZE_bronze_purchasing_purchaseorderlines_BRONZE</td><td>inserted</td><td>DATETIME2</td><td>2025-04-17 07:48:43.580699</td></tr><tr><td>2025-04-17T07:48:50.43141Z</td><td>/Users/khoa.ly.dang@bizone.com.vn/silver/load-to-silver_purchaseorders__BRONZE_bronze_purchasing_purchaseorders_BRONZE</td><td>inserted</td><td>DATETIME2</td><td>2025-04-17 07:48:42.089846</td></tr><tr><td>2025-04-17T07:47:01.304996Z</td><td>/Users/khoa.ly.dang@bizone.com.vn/gold/load-to-gold_purchaseorders_fact__SILVER_silver_purchaseorders_SILVER</td><td>inserted</td><td>DATETIME2</td><td>2025-04-17 07:46:51.257794</td></tr><tr><td>2025-04-17T07:46:40.105545Z</td><td>/Users/khoa.ly.dang@bizone.com.vn/silver/load-to-silver_purchaseorders__BRONZE_bronze_purchasing_purchaseorderlines_BRONZE</td><td>inserted</td><td>DATETIME2</td><td>2025-04-17 07:46:30.545442</td></tr><tr><td>2025-04-17T07:46:37.409509Z</td><td>/Users/khoa.ly.dang@bizone.com.vn/silver/load-to-silver_purchaseorders__BRONZE_bronze_purchasing_purchaseorders_BRONZE</td><td>inserted</td><td>DATETIME2</td><td>2025-04-17 07:46:29.705658</td></tr><tr><td>2025-04-17T07:46:01.859565Z</td><td>/Users/khoa.ly.dang@bizone.com.vn/bronze_schema changes/load-to-bronze-purchasing_purchaseorderlines__LANDING_LANDING_purchasing_purchaseorderlines_LANDING</td><td>inserted</td><td>DATETIME2</td><td>2025-04-17 07:45:56.161244</td></tr><tr><td>2025-04-17T07:45:34.021044Z</td><td>/Users/khoa.ly.dang@bizone.com.vn/bronze_schema changes/load-to-bronze-purchasing_purchaseorders__LANDING_LANDING_purchasing_purchaseorders_LANDING</td><td>inserted</td><td>DATETIME2</td><td>2025-04-17 07:45:28.607387</td></tr><tr><td>2025-04-17T04:06:52.213029Z</td><td>/Users/bao.tran.quoc@bizone.com.vn/BRONZE/load_to_bronze_sales_orderlines__LANDING_LANDING_sales_orderlines_LANDING</td><td>inserted</td><td>DATETIME2</td><td>2025-04-17 04:06:44.778545</td></tr><tr><td>2025-04-16T04:12:27.142972Z</td><td>/Users/bao.tran.quoc@bizone.com.vn/GOLD/load_to_gold_order_fact__SILVER_silver_order_SILVER</td><td>inserted</td><td>DATETIME2</td><td>2025-04-16 04:12:09.777758</td></tr><tr><td>2025-04-16T04:11:30.825257Z</td><td>/Users/bao.tran.quoc@bizone.com.vn/SILVER/load_to_silver_order__BRONZE_bronze_sales_orderlines_BRONZE</td><td>inserted</td><td>DATETIME2</td><td>2025-04-16 04:11:18.284521</td></tr><tr><td>2025-04-16T04:11:28.79836Z</td><td>/Users/bao.tran.quoc@bizone.com.vn/SILVER/load_to_silver_order__BRONZE_bronze_sales_orders_BRONZE</td><td>inserted</td><td>DATETIME2</td><td>2025-04-16 04:11:17.369497</td></tr><tr><td>2025-04-16T04:05:11.353699Z</td><td>/Users/bao.tran.quoc@bizone.com.vn/GOLD/load_to_gold_order_fact__SILVER_silver_order_SILVER</td><td>inserted</td><td>DATETIME2</td><td>2025-04-16 04:04:59.689703</td></tr><tr><td>2025-04-16T03:33:24.745308Z</td><td>/Users/bao.tran.quoc@bizone.com.vn/BRONZE/load_to_bronze_sales_orders__LANDING_LANDING_sales_orders_LANDING</td><td>inserted</td><td>DATETIME2</td><td>2025-04-16 03:33:19.230588</td></tr><tr><td>2025-04-16T03:18:09.7706Z</td><td>/Users/bao.tran.quoc@bizone.com.vn/SILVER/load_to_silver_order__BRONZE_bronze_sales_orderlines_BRONZE</td><td>inserted</td><td>DATETIME2</td><td>2025-04-16 03:17:53.568991</td></tr><tr><td>2025-04-16T03:18:04.47906Z</td><td>/Users/bao.tran.quoc@bizone.com.vn/SILVER/load_to_silver_order__BRONZE_bronze_sales_orders_BRONZE</td><td>inserted</td><td>DATETIME2</td><td>2025-04-16 03:17:52.421644</td></tr><tr><td>2025-04-08T08:43:47.319Z</td><td>/Users/bao.tran.quoc@bizone.com.vn/BRONZE/load_to_bronze_sales_orders__LANDING_LANDING_sales_orders_LANDING</td><td>inserted</td><td>DATETIME2</td><td>2025-04-08 08:20:42.490000</td></tr><tr><td>2025-04-08T08:08:25.776Z</td><td>/Users/bao.tran.quoc@bizone.com.vn/BRONZE/load_to_bronze_sales_orderlines__LANDING_LANDING_sales_orderlines_LANDING</td><td>inserted</td><td>DATETIME2</td><td>2025-04-08 07:14:28.400000</td></tr><tr><td>2025-04-08T03:54:49.427682Z</td><td>/Users/bao.tran.quoc@bizone.com.vn/BRONZE/load_to_bronze_sales_orderlines__LANDING_LANDING_sales_orderlines_LANDING</td><td>inserted</td><td>DATETIME2</td><td>2025-04-08 03:54:38.087672</td></tr><tr><td>2025-04-08T03:24:02.293469Z</td><td>/Users/bao.tran.quoc@bizone.com.vn/BRONZE/load_to_bronze_sales_orderlines__LANDING_LANDING_sales_orderlines_LANDING</td><td>inserted</td><td>DATETIME2</td><td>2025-04-08 03:23:50.361892</td></tr><tr><td>2025-03-25T10:37:38.545038Z</td><td>/Users/bao.tran.quoc@bizone.com.vn/SILVER/load_to_silver_sale__BRONZE_bronze_sales_invoicelines_BRONZE</td><td>inserted</td><td>DATETIME2</td><td>2025-03-25 10:37:02.837103</td></tr><tr><td>2025-03-25T10:37:29.633857Z</td><td>/Users/bao.tran.quoc@bizone.com.vn/SILVER/load_to_silver_sale__BRONZE_bronze_sales_invoices_BRONZE</td><td>inserted</td><td>DATETIME2</td><td>2025-03-25 10:37:00.123262</td></tr><tr><td>2025-03-25T04:32:53.418776Z</td><td>/Users/bao.tran.quoc@bizone.com.vn/GOLD/load_to_gold_sale_fact__SILVER_silver_sale_SILVER</td><td>inserted</td><td>DATETIME2</td><td>2025-03-25 04:32:26.912273</td></tr><tr><td>2025-03-25T04:30:45.75802Z</td><td>/Users/bao.tran.quoc@bizone.com.vn/SILVER/load_to_silver_sale__BRONZE_bronze_sales_invoicelines_BRONZE</td><td>inserted</td><td>DATETIME2</td><td>2025-03-25 04:30:23.994923</td></tr><tr><td>2025-03-25T04:30:41.258752Z</td><td>/Users/bao.tran.quoc@bizone.com.vn/SILVER/load_to_silver_sale__BRONZE_bronze_sales_invoices_BRONZE</td><td>inserted</td><td>DATETIME2</td><td>2025-03-25 04:30:21.250229</td></tr><tr><td>2025-03-25T04:28:28.883241Z</td><td>/Users/bao.tran.quoc@bizone.com.vn/BRONZE/load_to_bronze_sales_invoicelines__LANDING_LANDING_sales_invoicelines_LANDING</td><td>inserted</td><td>DATETIME2</td><td>2025-03-25 04:28:17.974643</td></tr><tr><td>2025-03-25T04:25:58.024226Z</td><td>/Users/bao.tran.quoc@bizone.com.vn/BRONZE/load_to_bronze_sales_invoicelines__LANDING_LANDING_sales_invoicelines_LANDING</td><td>inserted</td><td>DATETIME2</td><td>2025-03-25 04:25:47.683660</td></tr><tr><td>2025-03-25T04:21:17.125122Z</td><td>/Users/bao.tran.quoc@bizone.com.vn/BRONZE/load_to_bronze_sales_invoices__LANDING_LANDING_sales_invoices_LANDING</td><td>inserted</td><td>DATETIME2</td><td>2025-03-25 04:21:06.980504</td></tr><tr><td>2025-03-25T04:12:07.999914Z</td><td>/Users/bao.tran.quoc@bizone.com.vn/BRONZE/load_to_bronze_sales_invoicelines__LANDING_LANDING_sales_invoicelines_LANDING</td><td>inserted</td><td>DATETIME2</td><td>2025-03-25 04:11:57.787237</td></tr><tr><td>2025-03-25T04:07:54.159981Z</td><td>/Users/bao.tran.quoc@bizone.com.vn/BRONZE/load_to_bronze_sales_invoices__LANDING_LANDING_sales_invoices_LANDING</td><td>inserted</td><td>DATETIME2</td><td>2025-03-25 04:07:45.390378</td></tr><tr><td>2025-03-25T03:59:26.462055Z</td><td>/Users/bao.tran.quoc@bizone.com.vn/GOLD/load_to_gold_sale_fact__SILVER_silver_sale_SILVER</td><td>inserted</td><td>DATETIME2</td><td>2025-03-25 03:59:08.609594</td></tr><tr><td>2025-03-25T03:57:35.587557Z</td><td>/Users/bao.tran.quoc@bizone.com.vn/SILVER/load_to_silver_sale__BRONZE_bronze_sales_invoicelines_BRONZE</td><td>inserted</td><td>DATETIME2</td><td>2025-03-25 03:57:10.333530</td></tr><tr><td>2025-03-25T03:57:28.852178Z</td><td>/Users/bao.tran.quoc@bizone.com.vn/SILVER/load_to_silver_sale__BRONZE_bronze_sales_invoices_BRONZE</td><td>inserted</td><td>DATETIME2</td><td>2025-03-25 03:57:07.177384</td></tr><tr><td>2025-03-25T03:39:06.695364Z</td><td>/Users/bao.tran.quoc@bizone.com.vn/BRONZE/load_to_bronze_sales_invoicelines__LANDING_LANDING_sales_invoicelines_LANDING</td><td>inserted</td><td>DATETIME2</td><td>2025-03-25 03:38:55.316035</td></tr><tr><td>2025-03-25T03:34:06.181866Z</td><td>/Users/bao.tran.quoc@bizone.com.vn/BRONZE/load_to_bronze_sales_invoices__LANDING_LANDING_sales_invoices_LANDING</td><td>inserted</td><td>DATETIME2</td><td>2025-03-25 03:33:54.064880</td></tr><tr><td>2025-03-25T03:09:18.419773Z</td><td>/Users/bao.tran.quoc@bizone.com.vn/GOLD/load_to_gold_sale_fact__SILVER_silver_sale_SILVER</td><td>inserted</td><td>DATETIME2</td><td>2025-03-25 03:08:54.149183</td></tr><tr><td>2025-03-20T07:10:25.344249Z</td><td>/Users/bao.tran.quoc@bizone.com.vn/BRONZE/load_to_bronze_sales_invoicelines__LANDING_LANDING_sales_invoicelines_LANDING</td><td>inserted</td><td>DATETIME2</td><td>2025-03-20 07:10:13.679107</td></tr><tr><td>2025-03-20T07:05:35.70154Z</td><td>/Users/bao.tran.quoc@bizone.com.vn/BRONZE/load_to_bronze_sales_invoices__LANDING_LANDING_sales_invoices_LANDING</td><td>inserted</td><td>DATETIME2</td><td>2025-03-20 07:05:23.225381</td></tr><tr><td>2025-03-20T04:31:05.44045Z</td><td>/Users/bao.tran.quoc@bizone.com.vn/SILVER/load_to_silver_sale__BRONZE_bronze_sales_invoicelines_BRONZE</td><td>inserted</td><td>DATETIME2</td><td>2025-03-20 04:30:46.214391</td></tr><tr><td>2025-03-20T04:18:10.045896Z</td><td>/Users/bao.tran.quoc@bizone.com.vn/BRONZE/load_to_bronze_sales_invoicelines__LANDING_LANDING_sales_invoicelines_LANDING</td><td>inserted</td><td>DATETIME2</td><td>2025-03-20 04:17:58.208296</td></tr><tr><td>2025-03-19T17:00:27.454196Z</td><td>/Users/bao.tran.quoc@bizone.com.vn/BRONZE/load_to_bronze_sales_invoicelines__LANDING_LANDING_sales_invoicelines_LANDING</td><td>inserted</td><td>DATETIME2</td><td>2025-03-19 17:00:14.988773</td></tr><tr><td>2025-03-19T16:53:01.838377Z</td><td>/Users/bao.tran.quoc@bizone.com.vn/BRONZE/load_to_bronze_sales_invoices__LANDING_LANDING_sales_invoices_LANDING</td><td>inserted</td><td>DATETIME2</td><td>2025-03-19 16:52:48.760746</td></tr><tr><td>2025-03-19T09:08:24.371839Z</td><td>/Users/bao.tran.quoc@bizone.com.vn/SILVER/load_to_silver_sale__BRONZE_bronze_sales_invoicelines_BRONZE</td><td>inserted</td><td>DATETIME2</td><td>2025-03-19 09:07:59.724913</td></tr><tr><td>2025-03-19T09:08:20.095164Z</td><td>/Users/bao.tran.quoc@bizone.com.vn/SILVER/load_to_silver_sale__BRONZE_bronze_sales_invoices_BRONZE</td><td>inserted</td><td>DATETIME2</td><td>2025-03-19 09:07:56.065604</td></tr><tr><td>2025-03-19T08:30:27.655745Z</td><td>/Users/bao.tran.quoc@bizone.com.vn/BRONZE/load_to_bronze_sales_invoicelines__LANDING_LANDING_sales_invoicelines_LANDING</td><td>inserted</td><td>DATETIME2</td><td>2025-03-19 08:30:13.882533</td></tr><tr><td>2025-03-19T08:20:34.460764Z</td><td>/Users/bao.tran.quoc@bizone.com.vn/BRONZE/load_to_bronze_sales_invoices__LANDING_LANDING_sales_invoices_LANDING</td><td>inserted</td><td>DATETIME2</td><td>2025-03-19 08:20:23.741657</td></tr><tr><td>2025-03-19T07:51:47.570324Z</td><td>/Users/bao.tran.quoc@bizone.com.vn/SILVER/load_to_silver_sale_first_load__BRONZE_bronze_sales_invoicelines_BRONZE</td><td>inserted</td><td>DATETIME2</td><td>2025-03-19 07:51:24.261641</td></tr><tr><td>2025-03-19T07:51:43.192325Z</td><td>/Users/bao.tran.quoc@bizone.com.vn/SILVER/load_to_silver_sale_first_load__BRONZE_bronze_sales_invoices_BRONZE</td><td>inserted</td><td>DATETIME2</td><td>2025-03-19 07:51:19.734431</td></tr><tr><td>2025-03-19T07:46:22.485871Z</td><td>/Users/bao.tran.quoc@bizone.com.vn/BRONZE/load_to_bronze_sales_invoices__LANDING_LANDING_sales_invoices_LANDING</td><td>inserted</td><td>DATETIME2</td><td>2025-03-19 07:46:05.987919</td></tr><tr><td>2025-03-10T11:45:45.72079Z</td><td>/Users/vy.phan@bizone.com.vn/SILVER/load to silver layer_orders__BRONZE_bronze_sales_orderlines_BRONZE</td><td>inserted</td><td>DATETIME2</td><td>2025-03-10 11:45:18.954820</td></tr><tr><td>2025-03-10T11:45:42.327916Z</td><td>/Users/vy.phan@bizone.com.vn/SILVER/load to silver layer_orders__BRONZE_bronze_sales_orders_BRONZE</td><td>inserted</td><td>DATETIME2</td><td>2025-03-10 11:45:16.233359</td></tr><tr><td>2025-03-10T08:36:51.665535Z</td><td>/Users/vy.phan@bizone.com.vn/GOLD/load to gold layer_fact_orders__SILVER_silver_orders_SILVER</td><td>inserted</td><td>DATETIME2</td><td>2025-03-10 08:36:36.058310</td></tr><tr><td>2025-02-26T09:01:42.913539Z</td><td>/Users/di.truong@bizone.co.th/load-to-silver-customers__BRONZE_sales_sales_customers_BRONZE</td><td>inserted</td><td>DATETIME2</td><td>2025-02-26 09:01:17.707995</td></tr><tr><td>2025-02-26T08:43:55.652781Z</td><td>/Users/di.truong@bizone.co.th/load-to-silver-customers__BRONZE_sales_sales_customers_BRONZE</td><td>inserted</td><td>DATETIME2</td><td>2025-02-26 08:43:37.917917</td></tr><tr><td>2025-02-26T08:42:33.842879Z</td><td>/Users/di.truong@bizone.co.th/load-to-silver-customers__BRONZE_sales_sales_customers_BRONZE</td><td>inserted</td><td>DATETIME2</td><td>2025-02-26 08:42:18.022932</td></tr><tr><td>2025-02-26T08:41:35.679354Z</td><td>/Users/di.truong@bizone.co.th/load-to-silver-customers__BRONZE_sales_sales_customers_BRONZE</td><td>inserted</td><td>DATETIME2</td><td>2025-02-26 08:41:17.842885</td></tr><tr><td>2025-02-26T08:38:44.501767Z</td><td>/Users/di.truong@bizone.co.th/load-to-silver-customers__BRONZE_sales_sales_customers_BRONZE</td><td>inserted</td><td>DATETIME2</td><td>2025-02-26 08:37:39.095803</td></tr><tr><td>2025-01-09T04:27:24.35419Z</td><td>/Users/di.truong@bizone.co.th/Write to Silver Scenario__BRONZE_sales_master_customers_BRONZE</td><td>inserted</td><td>DATETIME2</td><td>2025-01-09 04:27:14.048615</td></tr><tr><td>2025-01-09T04:25:42.586238Z</td><td>/Users/di.truong@bizone.co.th/Write to Fact Scenario__SILVER_sales_master_customers_SILVER</td><td>inserted</td><td>DATETIME2</td><td>2025-01-09 04:25:27.859518</td></tr><tr><td>2025-01-09T03:34:18.32107Z</td><td>/Users/di.truong@bizone.co.th/Write to Silver Scenario__BRONZE_sales_master_customers_BRONZE</td><td>inserted</td><td>DATETIME2</td><td>2025-01-09 03:34:09.388280</td></tr><tr><td>2024-12-20T04:40:01.796955Z</td><td>/Users/di.truong@bizone.co.th/Write to Fact Scenario__SILVER_sales_master_customers_SILVER</td><td>inserted</td><td>DATETIME2</td><td>2024-12-20 04:39:49.997286</td></tr><tr><td>2024-12-20T04:37:29.779507Z</td><td>/Users/di.truong@bizone.co.th/Write to Fact Scenario__SILVER_sales_master_customers_SILVER</td><td>updated</td><td>DATETIME2</td><td>2024-12-20 04:37:17.054208</td></tr><tr><td>2024-12-19T10:06:02.759837Z</td><td>/Users/di.truong@bizone.co.th/Write to Fact Scenario__SILVER_sales_master_customers_SILVER</td><td>updated</td><td>DATETIME2</td><td>2024-12-19 10:05:54.584179</td></tr><tr><td>2024-12-19T10:02:42.896479Z</td><td>/Users/di.truong@bizone.co.th/Write to Fact Scenario__SILVER_sales_master_customers_SILVER</td><td>inserted</td><td>DATETIME2</td><td>2024-12-19 10:02:35.032214</td></tr><tr><td>2024-12-19T10:00:17.949413Z</td><td>/Users/di.truong@bizone.co.th/Write to Fact Scenario__SILVER_sales_master_customers_SILVER</td><td>inserted</td><td>DATETIME2</td><td>2024-12-19 10:00:01.385107</td></tr><tr><td>2024-12-19T09:21:39.322746Z</td><td>/Users/di.truong@bizone.co.th/Write to Silver Scenario - customed catalog__BRONZE_sales_master_customers_BRONZE</td><td>updated</td><td>DATETIME2</td><td>2024-12-19 09:21:36.587521</td></tr><tr><td>2024-12-19T08:38:54.595836Z</td><td>/Users/di.truong@bizone.co.th/Write to Silver Scenario - customed catalog__BRONZE_sales_master_customers_BRONZE</td><td>updated</td><td>DATETIME2</td><td>2024-12-19 08:38:50.759520</td></tr><tr><td>2024-12-19T08:33:58.60184Z</td><td>/Users/di.truong@bizone.co.th/Write to Silver Scenario - customed catalog__BRONZE_sales_master_customers_BRONZE</td><td>updated</td><td>DATETIME2</td><td>2024-12-19 08:33:47.927304</td></tr><tr><td>2024-12-19T07:51:25.648052Z</td><td>/Users/di.truong@bizone.co.th/Write to Silver Scenario - customed catalog__BRONZE_sales_master_customers_BRONZE</td><td>updated</td><td>DATETIME2</td><td>2024-12-19 07:51:22.705994</td></tr><tr><td>2024-12-19T07:43:11.809697Z</td><td>/Users/di.truong@bizone.co.th/Write to Silver Scenario - customed catalog__BRONZE_sales_master_customers_BRONZE</td><td>updated</td><td>DATETIME2</td><td>2024-12-19 07:43:08.591311</td></tr><tr><td>2024-12-19T07:11:26.330104Z</td><td>/Users/di.truong@bizone.co.th/Write to Silver Scenario - customed catalog__BRONZE_sales_master_customers_BRONZE</td><td>updated</td><td>DATETIME2</td><td>2024-12-19 07:11:23.380303</td></tr><tr><td>2024-12-19T06:59:53.863647Z</td><td>/Users/di.truong@bizone.co.th/Write to Silver Scenario - customed catalog__BRONZE_sales_master_customers_BRONZE</td><td>updated</td><td>DATETIME2</td><td>2024-12-19 06:59:50.553197</td></tr><tr><td>2024-12-19T06:54:48.09654Z</td><td>/Users/di.truong@bizone.co.th/Write to Silver Scenario - customed catalog__BRONZE_sales_master_customers_BRONZE</td><td>updated</td><td>DATETIME2</td><td>2024-12-19 06:54:38.503266</td></tr><tr><td>2024-12-19T06:33:06.283761Z</td><td>/Users/di.truong@bizone.co.th/Write to Silver Scenario - customed catalog__BRONZE_sales_master_customers_BRONZE</td><td>updated</td><td>DATETIME2</td><td>2024-12-19 06:32:55.157460</td></tr><tr><td>2024-12-19T06:31:47.49828Z</td><td>/Users/di.truong@bizone.co.th/Write to Silver Scenario - customed catalog__BRONZE_sales_master_customers_BRONZE</td><td>updated</td><td>DATETIME2</td><td>2024-12-19 06:31:44.977550</td></tr><tr><td>2024-12-19T06:23:38.327493Z</td><td>/Users/di.truong@bizone.co.th/Write to Silver Scenario - customed catalog__BRONZE_sales_master_customers_BRONZE</td><td>updated</td><td>DATETIME2</td><td>2024-12-19 06:23:35.977467</td></tr><tr><td>2024-12-19T06:14:45.082156Z</td><td>/Users/di.truong@bizone.co.th/Write to Silver Scenario - customed catalog__BRONZE_sales_master_customers_BRONZE</td><td>updated</td><td>DATETIME2</td><td>2024-12-19 06:14:42.646699</td></tr><tr><td>2024-12-19T06:12:56.155003Z</td><td>/Users/di.truong@bizone.co.th/Write to Silver Scenario - customed catalog__BRONZE_sales_master_customers_BRONZE</td><td>updated</td><td>DATETIME2</td><td>2024-12-19 06:12:42.290314</td></tr><tr><td>2024-12-19T06:00:56.835905Z</td><td>/Users/di.truong@bizone.co.th/Write to Silver Scenario - customed catalog__BRONZE_sales_master_customers_BRONZE</td><td>updated</td><td>DATETIME2</td><td>2024-12-19 06:00:42.289117</td></tr><tr><td>2024-12-19T05:58:42.168353Z</td><td>/Users/di.truong@bizone.co.th/Write to Silver Scenario - customed catalog__BRONZE_sales_master_customers_BRONZE</td><td>updated</td><td>DATETIME2</td><td>2024-12-19 05:58:21.244384</td></tr><tr><td>2024-12-19T04:38:37.827372Z</td><td>/Users/di.truong@bizone.co.th/Write to Silver Scenario - customed catalog__BRONZE_sales_master_customers_BRONZE</td><td>updated</td><td>DATETIME2</td><td>2024-12-19 04:38:35.367163</td></tr><tr><td>2024-12-19T04:36:17.795039Z</td><td>/Users/di.truong@bizone.co.th/Write to Silver Scenario - customed catalog__BRONZE_sales_master_customers_BRONZE</td><td>updated</td><td>DATETIME2</td><td>2024-12-19 04:36:15.737212</td></tr><tr><td>2024-12-19T04:33:55.741567Z</td><td>/Users/di.truong@bizone.co.th/Write to Silver Scenario - customed catalog__BRONZE_sales_master_customers_BRONZE</td><td>updated</td><td>DATETIME2</td><td>2024-12-19 04:33:53.553098</td></tr><tr><td>2024-12-19T04:32:26.851395Z</td><td>/Users/di.truong@bizone.co.th/Write to Silver Scenario - customed catalog__BRONZE_sales_master_customers_BRONZE</td><td>updated</td><td>DATETIME2</td><td>2024-12-19 04:32:24.744851</td></tr><tr><td>2024-12-19T04:31:42.251949Z</td><td>/Users/di.truong@bizone.co.th/Write to Silver Scenario - customed catalog__BRONZE_sales_master_customers_BRONZE</td><td>updated</td><td>DATETIME2</td><td>2024-12-19 04:31:40.164075</td></tr><tr><td>2024-12-19T04:30:35.373926Z</td><td>/Users/di.truong@bizone.co.th/Write to Silver Scenario - customed catalog__BRONZE_sales_master_customers_BRONZE</td><td>updated</td><td>DATETIME2</td><td>2024-12-19 04:30:33.086593</td></tr><tr><td>2024-12-19T04:29:53.40652Z</td><td>/Users/di.truong@bizone.co.th/Write to Silver Scenario - customed catalog__BRONZE_sales_master_customers_BRONZE</td><td>updated</td><td>DATETIME2</td><td>2024-12-19 04:29:49.288557</td></tr><tr><td>2024-12-19T04:27:32.63529Z</td><td>/Users/di.truong@bizone.co.th/Write to Silver Scenario - customed catalog__BRONZE_sales_master_customers_BRONZE</td><td>updated</td><td>DATETIME2</td><td>2024-12-19 04:27:30.582584</td></tr><tr><td>2024-12-19T04:25:07.724594Z</td><td>/Users/di.truong@bizone.co.th/Write to Silver Scenario - customed catalog__BRONZE_sales_master_customers_BRONZE</td><td>updated</td><td>DATETIME2</td><td>2024-12-19 04:25:05.071509</td></tr><tr><td>2024-12-19T04:18:53.507001Z</td><td>/Users/di.truong@bizone.co.th/Write to Silver Scenario - customed catalog__BRONZE_sales_master_customers_BRONZE</td><td>updated</td><td>DATETIME2</td><td>2024-12-19 04:18:50.589674</td></tr><tr><td>2024-12-17T09:56:01.448785Z</td><td>/Users/di.truong@bizone.co.th/Write to Silver Scenario - customed catalog__BRONZE_sales_master_customers_BRONZE</td><td>updated</td><td>DATETIME2</td><td>2024-12-17 09:55:52.177986</td></tr><tr><td>2024-12-17T09:39:32.815367Z</td><td>/Users/di.truong@bizone.co.th/Write to Silver Scenario - customed catalog__BRONZE_sales_master_customers_BRONZE</td><td>updated</td><td>DATETIME2</td><td>2024-12-17 09:39:22.786955</td></tr><tr><td>2024-12-17T09:37:11.161675Z</td><td>/Users/di.truong@bizone.co.th/Write to Silver Scenario - customed catalog__BRONZE_sales_master_customers_BRONZE</td><td>updated</td><td>DATETIME2</td><td>2024-12-17 09:37:01.295687</td></tr><tr><td>2024-12-17T03:58:51.30885Z</td><td>/Users/di.truong@bizone.co.th/Write to Silver Scenario - customed catalog__BRONZE_sales_master_customers_BRONZE</td><td>updated</td><td>DATETIME2</td><td>2024-12-17 03:58:40.526496</td></tr><tr><td>2024-12-16T04:06:58.208343Z</td><td>/Users/di.truong@bizone.co.th/Write to Silver Scenario - customed catalog__SILVER_sales_master_customers_dit_SILVER</td><td>updated</td><td>DATETIME2</td><td>2024-12-16 04:06:58.206091</td></tr><tr><td>2024-12-16T04:04:42.654549Z</td><td>/Users/di.truong@bizone.co.th/Write to Silver Scenario - customed catalog__SILVER_sales_master_customers_dit_SILVER</td><td>updated</td><td>DATETIME2</td><td>2024-12-16 04:04:42.653019</td></tr><tr><td>2024-12-16T04:03:53.944889Z</td><td>/Users/di.truong@bizone.co.th/Write to Silver Scenario - customed catalog__SILVER_sales_master_customers_dit_SILVER</td><td>updated</td><td>DATETIME2</td><td>2024-12-16 04:03:53.943370</td></tr><tr><td>2024-12-16T04:03:02.337138Z</td><td>/Users/di.truong@bizone.co.th/Write to Silver Scenario - customed catalog__SILVER_sales_master_customers_dit_SILVER</td><td>updated</td><td>DATETIME2</td><td>2024-12-16 04:03:02.335014</td></tr><tr><td>2024-12-16T04:01:00.966712Z</td><td>/Users/di.truong@bizone.co.th/Write to Silver Scenario - customed catalog__SILVER_sales_master_customers_dit_SILVER</td><td>updated</td><td>DATETIME2</td><td>2024-12-16 04:01:00.964391</td></tr><tr><td>2024-12-16T03:48:25.133836Z</td><td>/Users/di.truong@bizone.co.th/Write to Silver Scenario - customed catalog__SILVER_sales_master_customers_dit_SILVER</td><td>inserted</td><td>DATETIME2</td><td>2024-12-16 03:48:25.130597</td></tr><tr><td>2024-12-16T03:46:19.038833Z</td><td>/Users/di.truong@bizone.co.th/Write to Silver Scenario__BRONZE_sales_master_customers_BRONZE</td><td>inserted</td><td>DATETIME2</td><td>2024-12-16 03:46:19.034079</td></tr><tr><td>2024-12-16T03:44:22.879093Z</td><td>/Users/di.truong@bizone.co.th/Write to Silver Scenario__BRONZE_sales_master_customers_BRONZE</td><td>inserted</td><td>DATETIME2</td><td>1900-01-01 00:00:01</td></tr><tr><td>2024-12-17T03:34:22.991484Z</td><td>/Users/di.truong@bizone.co.th/Write to Silver Scenario - customed catalog__BRONZE_sales_master_customers_BRONZE</td><td>inserted</td><td>DATETIME2</td><td>1900-01-01</td></tr><tr><td>2024-12-17T03:55:23.999472Z</td><td>/Users/di.truong@bizone.co.th/Write to Silver Scenario - customed catalog__BRONZE_sales_master_customers_dit_BRONZE</td><td>inserted</td><td>DATETIME2</td><td>1900-01-01</td></tr><tr><td>2024-12-17T09:19:47.361783Z</td><td>/Users/di.truong@bizone.co.th/Write to Silver Scenario - customed catalog__BRONZE_sales_master_customers_dit_BRONZE</td><td>inserted</td><td>DATETIME2</td><td>1900-01-01</td></tr><tr><td>2024-12-17T09:32:12.977136Z</td><td>/Users/di.truong@bizone.co.th/Write to Silver Scenario - customed catalog__BRONZE_sales_master_customers_BRONZE</td><td>inserted</td><td>DATETIME2</td><td>1900-01-01</td></tr><tr><td>2024-12-17T09:39:04.567241Z</td><td>/Users/di.truong@bizone.co.th/Write to Silver Scenario - customed catalog__BRONZE_sales_master_customers_BRONZE</td><td>inserted</td><td>DATETIME2</td><td>1900-01-01</td></tr><tr><td>2024-12-17T09:55:10.898758Z</td><td>/Users/di.truong@bizone.co.th/Write to Silver Scenario - customed catalog__BRONZE_sales_master_customers_BRONZE</td><td>inserted</td><td>DATETIME2</td><td>1900-01-01</td></tr><tr><td>2024-12-19T04:17:38.891192Z</td><td>/Users/di.truong@bizone.co.th/Write to Silver Scenario - customed catalog__BRONZE_sales_master_customers_BRONZE</td><td>inserted</td><td>DATETIME2</td><td>1900-01-01</td></tr><tr><td>2024-12-19T04:19:47.41405Z</td><td>/Users/di.truong@bizone.co.th/Write to Silver Scenario - customed catalog__BRONZE_sales_master_customers_BRONZE</td><td>inserted</td><td>DATETIME2</td><td>1900-01-01</td></tr><tr><td>2024-12-19T04:25:23.337185Z</td><td>/Users/di.truong@bizone.co.th/Write to Silver Scenario - customed catalog__BRONZE_sales_master_customers_BRONZE</td><td>inserted</td><td>DATETIME2</td><td>1900-01-01</td></tr><tr><td>2024-12-19T04:26:05.559156Z</td><td>/Users/di.truong@bizone.co.th/Write to Silver Scenario - customed catalog__BRONZE_sales_master_customers_BRONZE</td><td>inserted</td><td>DATETIME2</td><td>1900-01-01</td></tr><tr><td>2024-12-19T04:31:57.495988Z</td><td>/Users/di.truong@bizone.co.th/Write to Silver Scenario - customed catalog__BRONZE_sales_master_customers_BRONZE</td><td>inserted</td><td>DATETIME2</td><td>1900-01-01</td></tr><tr><td>2024-12-19T04:33:17.74848Z</td><td>/Users/di.truong@bizone.co.th/Write to Silver Scenario - customed catalog__BRONZE_sales_master_customers_BRONZE</td><td>inserted</td><td>DATETIME2</td><td>1900-01-01</td></tr><tr><td>2024-12-19T04:35:36.736983Z</td><td>/Users/di.truong@bizone.co.th/Write to Silver Scenario - customed catalog__BRONZE_sales_master_customers_BRONZE</td><td>inserted</td><td>DATETIME2</td><td>1900-01-01</td></tr><tr><td>2024-12-19T04:37:32.982249Z</td><td>/Users/di.truong@bizone.co.th/Write to Silver Scenario - customed catalog__BRONZE_sales_master_customers_BRONZE</td><td>inserted</td><td>DATETIME2</td><td>1900-01-01</td></tr><tr><td>2024-12-19T04:38:17.954869Z</td><td>/Users/di.truong@bizone.co.th/Write to Silver Scenario - customed catalog__BRONZE_sales_master_customers_BRONZE</td><td>inserted</td><td>DATETIME2</td><td>1900-01-01</td></tr><tr><td>2024-12-19T06:00:13.826562Z</td><td>/Users/di.truong@bizone.co.th/Write to Silver Scenario - customed catalog__BRONZE_sales_master_customers_BRONZE</td><td>inserted</td><td>DATETIME2</td><td>1900-01-01</td></tr><tr><td>2024-12-19T06:11:14.656519Z</td><td>/Users/di.truong@bizone.co.th/Write to Silver Scenario - customed catalog__BRONZE_sales_master_customers_BRONZE</td><td>inserted</td><td>DATETIME2</td><td>1900-01-01</td></tr><tr><td>2024-12-19T06:31:06.617856Z</td><td>/Users/di.truong@bizone.co.th/Write to Silver Scenario - customed catalog__BRONZE_sales_master_customers_BRONZE</td><td>inserted</td><td>DATETIME2</td><td>1900-01-01</td></tr><tr><td>2024-12-19T06:32:40.423465Z</td><td>/Users/di.truong@bizone.co.th/Write to Silver Scenario - customed catalog__BRONZE_sales_master_customers_BRONZE</td><td>inserted</td><td>DATETIME2</td><td>1900-01-01</td></tr><tr><td>2024-12-19T06:53:24.098882Z</td><td>/Users/di.truong@bizone.co.th/Write to Silver Scenario - customed catalog__BRONZE_sales_master_customers_BRONZE</td><td>inserted</td><td>DATETIME2</td><td>1900-01-01</td></tr><tr><td>2024-12-19T07:10:15.101458Z</td><td>/Users/di.truong@bizone.co.th/Write to Silver Scenario - customed catalog__BRONZE_sales_master_customers_BRONZE</td><td>inserted</td><td>DATETIME2</td><td>1900-01-01</td></tr><tr><td>2024-12-19T07:23:30.670438Z</td><td>/Users/di.truong@bizone.co.th/Write to Silver Scenario - customed catalog__BRONZE_sales_master_customers_BRONZE</td><td>inserted</td><td>DATETIME2</td><td>1900-01-01</td></tr><tr><td>2024-12-19T07:42:21.346181Z</td><td>/Users/di.truong@bizone.co.th/Write to Silver Scenario - customed catalog__BRONZE_sales_master_customers_BRONZE</td><td>inserted</td><td>DATETIME2</td><td>1900-01-01</td></tr><tr><td>2024-12-19T07:50:35.627774Z</td><td>/Users/di.truong@bizone.co.th/Write to Silver Scenario - customed catalog__BRONZE_sales_master_customers_BRONZE</td><td>inserted</td><td>DATETIME2</td><td>1900-01-01</td></tr><tr><td>2024-12-19T08:33:23.494528Z</td><td>/Users/di.truong@bizone.co.th/Write to Silver Scenario - customed catalog__BRONZE_sales_master_customers_BRONZE</td><td>inserted</td><td>DATETIME2</td><td>1900-01-01</td></tr><tr><td>2024-12-19T08:38:21.515825Z</td><td>/Users/di.truong@bizone.co.th/Write to Silver Scenario - customed catalog__BRONZE_sales_master_customers_BRONZE</td><td>inserted</td><td>DATETIME2</td><td>1900-01-01</td></tr><tr><td>2024-12-19T08:39:18.958213Z</td><td>/Users/di.truong@bizone.co.th/Write to Silver Scenario - customed catalog__BRONZE_sales_master_customers_BRONZE</td><td>inserted</td><td>DATETIME2</td><td>1900-01-01</td></tr><tr><td>2024-12-19T09:21:11.787331Z</td><td>/Users/di.truong@bizone.co.th/Write to Silver Scenario - customed catalog__BRONZE_sales_master_customers_BRONZE</td><td>inserted</td><td>DATETIME2</td><td>1900-01-01</td></tr><tr><td>2024-12-19T10:02:10.06936Z</td><td>/Users/di.truong@bizone.co.th/Write to Fact Scenario__SILVER_sales_master_customers_SILVER</td><td>inserted</td><td>DATETIME2</td><td>1900-01-01</td></tr><tr><td>2024-12-20T04:36:44.010608Z</td><td>/Users/di.truong@bizone.co.th/Write to Fact Scenario__SILVER_sales_master_customers_SILVER</td><td>inserted</td><td>DATETIME2</td><td>1900-01-01</td></tr><tr><td>2024-12-20T04:38:15.763325Z</td><td>/Users/di.truong@bizone.co.th/Write to Fact Scenario__SILVER_sales_master_customers_SILVER</td><td>inserted</td><td>DATETIME2</td><td>1900-01-01</td></tr><tr><td>2025-01-08T07:29:37.280591Z</td><td>/Users/di.truong@bizone.co.th/Write to Silver Scenario - customed catalog__BRONZE_sales_master_customers_BRONZE</td><td>inserted</td><td>DATETIME2</td><td>1900-01-01</td></tr><tr><td>2025-01-09T04:24:40.26867Z</td><td>/Users/di.truong@bizone.co.th/Write to Fact Scenario__SILVER_sales_master_customers_SILVER</td><td>inserted</td><td>DATETIME2</td><td>1900-01-01</td></tr></tbody></table></div>"
      ]
     },
     "metadata": {
      "application/vnd.databricks.v1+output": {
       "addedWidgets": {},
       "aggData": [],
       "aggError": "",
       "aggOverflow": false,
       "aggSchema": [],
       "aggSeriesLimitReached": false,
       "aggType": "",
       "arguments": {},
       "columnCustomDisplayInfos": {},
       "data": [
        [
         "2025-07-01T10:06:33.923348Z",
         "/Users/vy.phan@bizone.com.vn/SILVER/load to silver layer_orders__BRONZE_bronze_sales_orderlines_BRONZE",
         "inserted",
         "DATETIME2",
         "2025-07-01 10:06:07.116256"
        ],
        [
         "2025-07-01T10:06:27.425124Z",
         "/Users/vy.phan@bizone.com.vn/SILVER/load to silver layer_orders__BRONZE_bronze_sales_orders_BRONZE",
         "inserted",
         "DATETIME2",
         "2025-07-01 10:06:05.183351"
        ],
        [
         "2025-04-17T08:49:31.096796Z",
         "/Users/khoa.ly.dang@bizone.com.vn/silver/load-to-silver_purchaseorders__BRONZE_bronze_purchasing_purchaseorderlines_BRONZE",
         "inserted",
         "DATETIME2",
         "2025-04-17 08:49:20.935993"
        ],
        [
         "2025-04-17T08:49:28.112785Z",
         "/Users/khoa.ly.dang@bizone.com.vn/silver/load-to-silver_purchaseorders__BRONZE_bronze_purchasing_purchaseorders_BRONZE",
         "inserted",
         "DATETIME2",
         "2025-04-17 08:49:18.935946"
        ],
        [
         "2025-04-17T07:49:38.276485Z",
         "/Users/khoa.ly.dang@bizone.com.vn/gold/load-to-gold_purchaseorders_fact__SILVER_silver_purchaseorders_SILVER",
         "inserted",
         "DATETIME2",
         "2025-04-17 07:49:26.710962"
        ],
        [
         "2025-04-17T07:48:53.558891Z",
         "/Users/khoa.ly.dang@bizone.com.vn/silver/load-to-silver_purchaseorders__BRONZE_bronze_purchasing_purchaseorderlines_BRONZE",
         "inserted",
         "DATETIME2",
         "2025-04-17 07:48:43.580699"
        ],
        [
         "2025-04-17T07:48:50.43141Z",
         "/Users/khoa.ly.dang@bizone.com.vn/silver/load-to-silver_purchaseorders__BRONZE_bronze_purchasing_purchaseorders_BRONZE",
         "inserted",
         "DATETIME2",
         "2025-04-17 07:48:42.089846"
        ],
        [
         "2025-04-17T07:47:01.304996Z",
         "/Users/khoa.ly.dang@bizone.com.vn/gold/load-to-gold_purchaseorders_fact__SILVER_silver_purchaseorders_SILVER",
         "inserted",
         "DATETIME2",
         "2025-04-17 07:46:51.257794"
        ],
        [
         "2025-04-17T07:46:40.105545Z",
         "/Users/khoa.ly.dang@bizone.com.vn/silver/load-to-silver_purchaseorders__BRONZE_bronze_purchasing_purchaseorderlines_BRONZE",
         "inserted",
         "DATETIME2",
         "2025-04-17 07:46:30.545442"
        ],
        [
         "2025-04-17T07:46:37.409509Z",
         "/Users/khoa.ly.dang@bizone.com.vn/silver/load-to-silver_purchaseorders__BRONZE_bronze_purchasing_purchaseorders_BRONZE",
         "inserted",
         "DATETIME2",
         "2025-04-17 07:46:29.705658"
        ],
        [
         "2025-04-17T07:46:01.859565Z",
         "/Users/khoa.ly.dang@bizone.com.vn/bronze_schema changes/load-to-bronze-purchasing_purchaseorderlines__LANDING_LANDING_purchasing_purchaseorderlines_LANDING",
         "inserted",
         "DATETIME2",
         "2025-04-17 07:45:56.161244"
        ],
        [
         "2025-04-17T07:45:34.021044Z",
         "/Users/khoa.ly.dang@bizone.com.vn/bronze_schema changes/load-to-bronze-purchasing_purchaseorders__LANDING_LANDING_purchasing_purchaseorders_LANDING",
         "inserted",
         "DATETIME2",
         "2025-04-17 07:45:28.607387"
        ],
        [
         "2025-04-17T04:06:52.213029Z",
         "/Users/bao.tran.quoc@bizone.com.vn/BRONZE/load_to_bronze_sales_orderlines__LANDING_LANDING_sales_orderlines_LANDING",
         "inserted",
         "DATETIME2",
         "2025-04-17 04:06:44.778545"
        ],
        [
         "2025-04-16T04:12:27.142972Z",
         "/Users/bao.tran.quoc@bizone.com.vn/GOLD/load_to_gold_order_fact__SILVER_silver_order_SILVER",
         "inserted",
         "DATETIME2",
         "2025-04-16 04:12:09.777758"
        ],
        [
         "2025-04-16T04:11:30.825257Z",
         "/Users/bao.tran.quoc@bizone.com.vn/SILVER/load_to_silver_order__BRONZE_bronze_sales_orderlines_BRONZE",
         "inserted",
         "DATETIME2",
         "2025-04-16 04:11:18.284521"
        ],
        [
         "2025-04-16T04:11:28.79836Z",
         "/Users/bao.tran.quoc@bizone.com.vn/SILVER/load_to_silver_order__BRONZE_bronze_sales_orders_BRONZE",
         "inserted",
         "DATETIME2",
         "2025-04-16 04:11:17.369497"
        ],
        [
         "2025-04-16T04:05:11.353699Z",
         "/Users/bao.tran.quoc@bizone.com.vn/GOLD/load_to_gold_order_fact__SILVER_silver_order_SILVER",
         "inserted",
         "DATETIME2",
         "2025-04-16 04:04:59.689703"
        ],
        [
         "2025-04-16T03:33:24.745308Z",
         "/Users/bao.tran.quoc@bizone.com.vn/BRONZE/load_to_bronze_sales_orders__LANDING_LANDING_sales_orders_LANDING",
         "inserted",
         "DATETIME2",
         "2025-04-16 03:33:19.230588"
        ],
        [
         "2025-04-16T03:18:09.7706Z",
         "/Users/bao.tran.quoc@bizone.com.vn/SILVER/load_to_silver_order__BRONZE_bronze_sales_orderlines_BRONZE",
         "inserted",
         "DATETIME2",
         "2025-04-16 03:17:53.568991"
        ],
        [
         "2025-04-16T03:18:04.47906Z",
         "/Users/bao.tran.quoc@bizone.com.vn/SILVER/load_to_silver_order__BRONZE_bronze_sales_orders_BRONZE",
         "inserted",
         "DATETIME2",
         "2025-04-16 03:17:52.421644"
        ],
        [
         "2025-04-08T08:43:47.319Z",
         "/Users/bao.tran.quoc@bizone.com.vn/BRONZE/load_to_bronze_sales_orders__LANDING_LANDING_sales_orders_LANDING",
         "inserted",
         "DATETIME2",
         "2025-04-08 08:20:42.490000"
        ],
        [
         "2025-04-08T08:08:25.776Z",
         "/Users/bao.tran.quoc@bizone.com.vn/BRONZE/load_to_bronze_sales_orderlines__LANDING_LANDING_sales_orderlines_LANDING",
         "inserted",
         "DATETIME2",
         "2025-04-08 07:14:28.400000"
        ],
        [
         "2025-04-08T03:54:49.427682Z",
         "/Users/bao.tran.quoc@bizone.com.vn/BRONZE/load_to_bronze_sales_orderlines__LANDING_LANDING_sales_orderlines_LANDING",
         "inserted",
         "DATETIME2",
         "2025-04-08 03:54:38.087672"
        ],
        [
         "2025-04-08T03:24:02.293469Z",
         "/Users/bao.tran.quoc@bizone.com.vn/BRONZE/load_to_bronze_sales_orderlines__LANDING_LANDING_sales_orderlines_LANDING",
         "inserted",
         "DATETIME2",
         "2025-04-08 03:23:50.361892"
        ],
        [
         "2025-03-25T10:37:38.545038Z",
         "/Users/bao.tran.quoc@bizone.com.vn/SILVER/load_to_silver_sale__BRONZE_bronze_sales_invoicelines_BRONZE",
         "inserted",
         "DATETIME2",
         "2025-03-25 10:37:02.837103"
        ],
        [
         "2025-03-25T10:37:29.633857Z",
         "/Users/bao.tran.quoc@bizone.com.vn/SILVER/load_to_silver_sale__BRONZE_bronze_sales_invoices_BRONZE",
         "inserted",
         "DATETIME2",
         "2025-03-25 10:37:00.123262"
        ],
        [
         "2025-03-25T04:32:53.418776Z",
         "/Users/bao.tran.quoc@bizone.com.vn/GOLD/load_to_gold_sale_fact__SILVER_silver_sale_SILVER",
         "inserted",
         "DATETIME2",
         "2025-03-25 04:32:26.912273"
        ],
        [
         "2025-03-25T04:30:45.75802Z",
         "/Users/bao.tran.quoc@bizone.com.vn/SILVER/load_to_silver_sale__BRONZE_bronze_sales_invoicelines_BRONZE",
         "inserted",
         "DATETIME2",
         "2025-03-25 04:30:23.994923"
        ],
        [
         "2025-03-25T04:30:41.258752Z",
         "/Users/bao.tran.quoc@bizone.com.vn/SILVER/load_to_silver_sale__BRONZE_bronze_sales_invoices_BRONZE",
         "inserted",
         "DATETIME2",
         "2025-03-25 04:30:21.250229"
        ],
        [
         "2025-03-25T04:28:28.883241Z",
         "/Users/bao.tran.quoc@bizone.com.vn/BRONZE/load_to_bronze_sales_invoicelines__LANDING_LANDING_sales_invoicelines_LANDING",
         "inserted",
         "DATETIME2",
         "2025-03-25 04:28:17.974643"
        ],
        [
         "2025-03-25T04:25:58.024226Z",
         "/Users/bao.tran.quoc@bizone.com.vn/BRONZE/load_to_bronze_sales_invoicelines__LANDING_LANDING_sales_invoicelines_LANDING",
         "inserted",
         "DATETIME2",
         "2025-03-25 04:25:47.683660"
        ],
        [
         "2025-03-25T04:21:17.125122Z",
         "/Users/bao.tran.quoc@bizone.com.vn/BRONZE/load_to_bronze_sales_invoices__LANDING_LANDING_sales_invoices_LANDING",
         "inserted",
         "DATETIME2",
         "2025-03-25 04:21:06.980504"
        ],
        [
         "2025-03-25T04:12:07.999914Z",
         "/Users/bao.tran.quoc@bizone.com.vn/BRONZE/load_to_bronze_sales_invoicelines__LANDING_LANDING_sales_invoicelines_LANDING",
         "inserted",
         "DATETIME2",
         "2025-03-25 04:11:57.787237"
        ],
        [
         "2025-03-25T04:07:54.159981Z",
         "/Users/bao.tran.quoc@bizone.com.vn/BRONZE/load_to_bronze_sales_invoices__LANDING_LANDING_sales_invoices_LANDING",
         "inserted",
         "DATETIME2",
         "2025-03-25 04:07:45.390378"
        ],
        [
         "2025-03-25T03:59:26.462055Z",
         "/Users/bao.tran.quoc@bizone.com.vn/GOLD/load_to_gold_sale_fact__SILVER_silver_sale_SILVER",
         "inserted",
         "DATETIME2",
         "2025-03-25 03:59:08.609594"
        ],
        [
         "2025-03-25T03:57:35.587557Z",
         "/Users/bao.tran.quoc@bizone.com.vn/SILVER/load_to_silver_sale__BRONZE_bronze_sales_invoicelines_BRONZE",
         "inserted",
         "DATETIME2",
         "2025-03-25 03:57:10.333530"
        ],
        [
         "2025-03-25T03:57:28.852178Z",
         "/Users/bao.tran.quoc@bizone.com.vn/SILVER/load_to_silver_sale__BRONZE_bronze_sales_invoices_BRONZE",
         "inserted",
         "DATETIME2",
         "2025-03-25 03:57:07.177384"
        ],
        [
         "2025-03-25T03:39:06.695364Z",
         "/Users/bao.tran.quoc@bizone.com.vn/BRONZE/load_to_bronze_sales_invoicelines__LANDING_LANDING_sales_invoicelines_LANDING",
         "inserted",
         "DATETIME2",
         "2025-03-25 03:38:55.316035"
        ],
        [
         "2025-03-25T03:34:06.181866Z",
         "/Users/bao.tran.quoc@bizone.com.vn/BRONZE/load_to_bronze_sales_invoices__LANDING_LANDING_sales_invoices_LANDING",
         "inserted",
         "DATETIME2",
         "2025-03-25 03:33:54.064880"
        ],
        [
         "2025-03-25T03:09:18.419773Z",
         "/Users/bao.tran.quoc@bizone.com.vn/GOLD/load_to_gold_sale_fact__SILVER_silver_sale_SILVER",
         "inserted",
         "DATETIME2",
         "2025-03-25 03:08:54.149183"
        ],
        [
         "2025-03-20T07:10:25.344249Z",
         "/Users/bao.tran.quoc@bizone.com.vn/BRONZE/load_to_bronze_sales_invoicelines__LANDING_LANDING_sales_invoicelines_LANDING",
         "inserted",
         "DATETIME2",
         "2025-03-20 07:10:13.679107"
        ],
        [
         "2025-03-20T07:05:35.70154Z",
         "/Users/bao.tran.quoc@bizone.com.vn/BRONZE/load_to_bronze_sales_invoices__LANDING_LANDING_sales_invoices_LANDING",
         "inserted",
         "DATETIME2",
         "2025-03-20 07:05:23.225381"
        ],
        [
         "2025-03-20T04:31:05.44045Z",
         "/Users/bao.tran.quoc@bizone.com.vn/SILVER/load_to_silver_sale__BRONZE_bronze_sales_invoicelines_BRONZE",
         "inserted",
         "DATETIME2",
         "2025-03-20 04:30:46.214391"
        ],
        [
         "2025-03-20T04:18:10.045896Z",
         "/Users/bao.tran.quoc@bizone.com.vn/BRONZE/load_to_bronze_sales_invoicelines__LANDING_LANDING_sales_invoicelines_LANDING",
         "inserted",
         "DATETIME2",
         "2025-03-20 04:17:58.208296"
        ],
        [
         "2025-03-19T17:00:27.454196Z",
         "/Users/bao.tran.quoc@bizone.com.vn/BRONZE/load_to_bronze_sales_invoicelines__LANDING_LANDING_sales_invoicelines_LANDING",
         "inserted",
         "DATETIME2",
         "2025-03-19 17:00:14.988773"
        ],
        [
         "2025-03-19T16:53:01.838377Z",
         "/Users/bao.tran.quoc@bizone.com.vn/BRONZE/load_to_bronze_sales_invoices__LANDING_LANDING_sales_invoices_LANDING",
         "inserted",
         "DATETIME2",
         "2025-03-19 16:52:48.760746"
        ],
        [
         "2025-03-19T09:08:24.371839Z",
         "/Users/bao.tran.quoc@bizone.com.vn/SILVER/load_to_silver_sale__BRONZE_bronze_sales_invoicelines_BRONZE",
         "inserted",
         "DATETIME2",
         "2025-03-19 09:07:59.724913"
        ],
        [
         "2025-03-19T09:08:20.095164Z",
         "/Users/bao.tran.quoc@bizone.com.vn/SILVER/load_to_silver_sale__BRONZE_bronze_sales_invoices_BRONZE",
         "inserted",
         "DATETIME2",
         "2025-03-19 09:07:56.065604"
        ],
        [
         "2025-03-19T08:30:27.655745Z",
         "/Users/bao.tran.quoc@bizone.com.vn/BRONZE/load_to_bronze_sales_invoicelines__LANDING_LANDING_sales_invoicelines_LANDING",
         "inserted",
         "DATETIME2",
         "2025-03-19 08:30:13.882533"
        ],
        [
         "2025-03-19T08:20:34.460764Z",
         "/Users/bao.tran.quoc@bizone.com.vn/BRONZE/load_to_bronze_sales_invoices__LANDING_LANDING_sales_invoices_LANDING",
         "inserted",
         "DATETIME2",
         "2025-03-19 08:20:23.741657"
        ],
        [
         "2025-03-19T07:51:47.570324Z",
         "/Users/bao.tran.quoc@bizone.com.vn/SILVER/load_to_silver_sale_first_load__BRONZE_bronze_sales_invoicelines_BRONZE",
         "inserted",
         "DATETIME2",
         "2025-03-19 07:51:24.261641"
        ],
        [
         "2025-03-19T07:51:43.192325Z",
         "/Users/bao.tran.quoc@bizone.com.vn/SILVER/load_to_silver_sale_first_load__BRONZE_bronze_sales_invoices_BRONZE",
         "inserted",
         "DATETIME2",
         "2025-03-19 07:51:19.734431"
        ],
        [
         "2025-03-19T07:46:22.485871Z",
         "/Users/bao.tran.quoc@bizone.com.vn/BRONZE/load_to_bronze_sales_invoices__LANDING_LANDING_sales_invoices_LANDING",
         "inserted",
         "DATETIME2",
         "2025-03-19 07:46:05.987919"
        ],
        [
         "2025-03-10T11:45:45.72079Z",
         "/Users/vy.phan@bizone.com.vn/SILVER/load to silver layer_orders__BRONZE_bronze_sales_orderlines_BRONZE",
         "inserted",
         "DATETIME2",
         "2025-03-10 11:45:18.954820"
        ],
        [
         "2025-03-10T11:45:42.327916Z",
         "/Users/vy.phan@bizone.com.vn/SILVER/load to silver layer_orders__BRONZE_bronze_sales_orders_BRONZE",
         "inserted",
         "DATETIME2",
         "2025-03-10 11:45:16.233359"
        ],
        [
         "2025-03-10T08:36:51.665535Z",
         "/Users/vy.phan@bizone.com.vn/GOLD/load to gold layer_fact_orders__SILVER_silver_orders_SILVER",
         "inserted",
         "DATETIME2",
         "2025-03-10 08:36:36.058310"
        ],
        [
         "2025-02-26T09:01:42.913539Z",
         "/Users/di.truong@bizone.co.th/load-to-silver-customers__BRONZE_sales_sales_customers_BRONZE",
         "inserted",
         "DATETIME2",
         "2025-02-26 09:01:17.707995"
        ],
        [
         "2025-02-26T08:43:55.652781Z",
         "/Users/di.truong@bizone.co.th/load-to-silver-customers__BRONZE_sales_sales_customers_BRONZE",
         "inserted",
         "DATETIME2",
         "2025-02-26 08:43:37.917917"
        ],
        [
         "2025-02-26T08:42:33.842879Z",
         "/Users/di.truong@bizone.co.th/load-to-silver-customers__BRONZE_sales_sales_customers_BRONZE",
         "inserted",
         "DATETIME2",
         "2025-02-26 08:42:18.022932"
        ],
        [
         "2025-02-26T08:41:35.679354Z",
         "/Users/di.truong@bizone.co.th/load-to-silver-customers__BRONZE_sales_sales_customers_BRONZE",
         "inserted",
         "DATETIME2",
         "2025-02-26 08:41:17.842885"
        ],
        [
         "2025-02-26T08:38:44.501767Z",
         "/Users/di.truong@bizone.co.th/load-to-silver-customers__BRONZE_sales_sales_customers_BRONZE",
         "inserted",
         "DATETIME2",
         "2025-02-26 08:37:39.095803"
        ],
        [
         "2025-01-09T04:27:24.35419Z",
         "/Users/di.truong@bizone.co.th/Write to Silver Scenario__BRONZE_sales_master_customers_BRONZE",
         "inserted",
         "DATETIME2",
         "2025-01-09 04:27:14.048615"
        ],
        [
         "2025-01-09T04:25:42.586238Z",
         "/Users/di.truong@bizone.co.th/Write to Fact Scenario__SILVER_sales_master_customers_SILVER",
         "inserted",
         "DATETIME2",
         "2025-01-09 04:25:27.859518"
        ],
        [
         "2025-01-09T03:34:18.32107Z",
         "/Users/di.truong@bizone.co.th/Write to Silver Scenario__BRONZE_sales_master_customers_BRONZE",
         "inserted",
         "DATETIME2",
         "2025-01-09 03:34:09.388280"
        ],
        [
         "2024-12-20T04:40:01.796955Z",
         "/Users/di.truong@bizone.co.th/Write to Fact Scenario__SILVER_sales_master_customers_SILVER",
         "inserted",
         "DATETIME2",
         "2024-12-20 04:39:49.997286"
        ],
        [
         "2024-12-20T04:37:29.779507Z",
         "/Users/di.truong@bizone.co.th/Write to Fact Scenario__SILVER_sales_master_customers_SILVER",
         "updated",
         "DATETIME2",
         "2024-12-20 04:37:17.054208"
        ],
        [
         "2024-12-19T10:06:02.759837Z",
         "/Users/di.truong@bizone.co.th/Write to Fact Scenario__SILVER_sales_master_customers_SILVER",
         "updated",
         "DATETIME2",
         "2024-12-19 10:05:54.584179"
        ],
        [
         "2024-12-19T10:02:42.896479Z",
         "/Users/di.truong@bizone.co.th/Write to Fact Scenario__SILVER_sales_master_customers_SILVER",
         "inserted",
         "DATETIME2",
         "2024-12-19 10:02:35.032214"
        ],
        [
         "2024-12-19T10:00:17.949413Z",
         "/Users/di.truong@bizone.co.th/Write to Fact Scenario__SILVER_sales_master_customers_SILVER",
         "inserted",
         "DATETIME2",
         "2024-12-19 10:00:01.385107"
        ],
        [
         "2024-12-19T09:21:39.322746Z",
         "/Users/di.truong@bizone.co.th/Write to Silver Scenario - customed catalog__BRONZE_sales_master_customers_BRONZE",
         "updated",
         "DATETIME2",
         "2024-12-19 09:21:36.587521"
        ],
        [
         "2024-12-19T08:38:54.595836Z",
         "/Users/di.truong@bizone.co.th/Write to Silver Scenario - customed catalog__BRONZE_sales_master_customers_BRONZE",
         "updated",
         "DATETIME2",
         "2024-12-19 08:38:50.759520"
        ],
        [
         "2024-12-19T08:33:58.60184Z",
         "/Users/di.truong@bizone.co.th/Write to Silver Scenario - customed catalog__BRONZE_sales_master_customers_BRONZE",
         "updated",
         "DATETIME2",
         "2024-12-19 08:33:47.927304"
        ],
        [
         "2024-12-19T07:51:25.648052Z",
         "/Users/di.truong@bizone.co.th/Write to Silver Scenario - customed catalog__BRONZE_sales_master_customers_BRONZE",
         "updated",
         "DATETIME2",
         "2024-12-19 07:51:22.705994"
        ],
        [
         "2024-12-19T07:43:11.809697Z",
         "/Users/di.truong@bizone.co.th/Write to Silver Scenario - customed catalog__BRONZE_sales_master_customers_BRONZE",
         "updated",
         "DATETIME2",
         "2024-12-19 07:43:08.591311"
        ],
        [
         "2024-12-19T07:11:26.330104Z",
         "/Users/di.truong@bizone.co.th/Write to Silver Scenario - customed catalog__BRONZE_sales_master_customers_BRONZE",
         "updated",
         "DATETIME2",
         "2024-12-19 07:11:23.380303"
        ],
        [
         "2024-12-19T06:59:53.863647Z",
         "/Users/di.truong@bizone.co.th/Write to Silver Scenario - customed catalog__BRONZE_sales_master_customers_BRONZE",
         "updated",
         "DATETIME2",
         "2024-12-19 06:59:50.553197"
        ],
        [
         "2024-12-19T06:54:48.09654Z",
         "/Users/di.truong@bizone.co.th/Write to Silver Scenario - customed catalog__BRONZE_sales_master_customers_BRONZE",
         "updated",
         "DATETIME2",
         "2024-12-19 06:54:38.503266"
        ],
        [
         "2024-12-19T06:33:06.283761Z",
         "/Users/di.truong@bizone.co.th/Write to Silver Scenario - customed catalog__BRONZE_sales_master_customers_BRONZE",
         "updated",
         "DATETIME2",
         "2024-12-19 06:32:55.157460"
        ],
        [
         "2024-12-19T06:31:47.49828Z",
         "/Users/di.truong@bizone.co.th/Write to Silver Scenario - customed catalog__BRONZE_sales_master_customers_BRONZE",
         "updated",
         "DATETIME2",
         "2024-12-19 06:31:44.977550"
        ],
        [
         "2024-12-19T06:23:38.327493Z",
         "/Users/di.truong@bizone.co.th/Write to Silver Scenario - customed catalog__BRONZE_sales_master_customers_BRONZE",
         "updated",
         "DATETIME2",
         "2024-12-19 06:23:35.977467"
        ],
        [
         "2024-12-19T06:14:45.082156Z",
         "/Users/di.truong@bizone.co.th/Write to Silver Scenario - customed catalog__BRONZE_sales_master_customers_BRONZE",
         "updated",
         "DATETIME2",
         "2024-12-19 06:14:42.646699"
        ],
        [
         "2024-12-19T06:12:56.155003Z",
         "/Users/di.truong@bizone.co.th/Write to Silver Scenario - customed catalog__BRONZE_sales_master_customers_BRONZE",
         "updated",
         "DATETIME2",
         "2024-12-19 06:12:42.290314"
        ],
        [
         "2024-12-19T06:00:56.835905Z",
         "/Users/di.truong@bizone.co.th/Write to Silver Scenario - customed catalog__BRONZE_sales_master_customers_BRONZE",
         "updated",
         "DATETIME2",
         "2024-12-19 06:00:42.289117"
        ],
        [
         "2024-12-19T05:58:42.168353Z",
         "/Users/di.truong@bizone.co.th/Write to Silver Scenario - customed catalog__BRONZE_sales_master_customers_BRONZE",
         "updated",
         "DATETIME2",
         "2024-12-19 05:58:21.244384"
        ],
        [
         "2024-12-19T04:38:37.827372Z",
         "/Users/di.truong@bizone.co.th/Write to Silver Scenario - customed catalog__BRONZE_sales_master_customers_BRONZE",
         "updated",
         "DATETIME2",
         "2024-12-19 04:38:35.367163"
        ],
        [
         "2024-12-19T04:36:17.795039Z",
         "/Users/di.truong@bizone.co.th/Write to Silver Scenario - customed catalog__BRONZE_sales_master_customers_BRONZE",
         "updated",
         "DATETIME2",
         "2024-12-19 04:36:15.737212"
        ],
        [
         "2024-12-19T04:33:55.741567Z",
         "/Users/di.truong@bizone.co.th/Write to Silver Scenario - customed catalog__BRONZE_sales_master_customers_BRONZE",
         "updated",
         "DATETIME2",
         "2024-12-19 04:33:53.553098"
        ],
        [
         "2024-12-19T04:32:26.851395Z",
         "/Users/di.truong@bizone.co.th/Write to Silver Scenario - customed catalog__BRONZE_sales_master_customers_BRONZE",
         "updated",
         "DATETIME2",
         "2024-12-19 04:32:24.744851"
        ],
        [
         "2024-12-19T04:31:42.251949Z",
         "/Users/di.truong@bizone.co.th/Write to Silver Scenario - customed catalog__BRONZE_sales_master_customers_BRONZE",
         "updated",
         "DATETIME2",
         "2024-12-19 04:31:40.164075"
        ],
        [
         "2024-12-19T04:30:35.373926Z",
         "/Users/di.truong@bizone.co.th/Write to Silver Scenario - customed catalog__BRONZE_sales_master_customers_BRONZE",
         "updated",
         "DATETIME2",
         "2024-12-19 04:30:33.086593"
        ],
        [
         "2024-12-19T04:29:53.40652Z",
         "/Users/di.truong@bizone.co.th/Write to Silver Scenario - customed catalog__BRONZE_sales_master_customers_BRONZE",
         "updated",
         "DATETIME2",
         "2024-12-19 04:29:49.288557"
        ],
        [
         "2024-12-19T04:27:32.63529Z",
         "/Users/di.truong@bizone.co.th/Write to Silver Scenario - customed catalog__BRONZE_sales_master_customers_BRONZE",
         "updated",
         "DATETIME2",
         "2024-12-19 04:27:30.582584"
        ],
        [
         "2024-12-19T04:25:07.724594Z",
         "/Users/di.truong@bizone.co.th/Write to Silver Scenario - customed catalog__BRONZE_sales_master_customers_BRONZE",
         "updated",
         "DATETIME2",
         "2024-12-19 04:25:05.071509"
        ],
        [
         "2024-12-19T04:18:53.507001Z",
         "/Users/di.truong@bizone.co.th/Write to Silver Scenario - customed catalog__BRONZE_sales_master_customers_BRONZE",
         "updated",
         "DATETIME2",
         "2024-12-19 04:18:50.589674"
        ],
        [
         "2024-12-17T09:56:01.448785Z",
         "/Users/di.truong@bizone.co.th/Write to Silver Scenario - customed catalog__BRONZE_sales_master_customers_BRONZE",
         "updated",
         "DATETIME2",
         "2024-12-17 09:55:52.177986"
        ],
        [
         "2024-12-17T09:39:32.815367Z",
         "/Users/di.truong@bizone.co.th/Write to Silver Scenario - customed catalog__BRONZE_sales_master_customers_BRONZE",
         "updated",
         "DATETIME2",
         "2024-12-17 09:39:22.786955"
        ],
        [
         "2024-12-17T09:37:11.161675Z",
         "/Users/di.truong@bizone.co.th/Write to Silver Scenario - customed catalog__BRONZE_sales_master_customers_BRONZE",
         "updated",
         "DATETIME2",
         "2024-12-17 09:37:01.295687"
        ],
        [
         "2024-12-17T03:58:51.30885Z",
         "/Users/di.truong@bizone.co.th/Write to Silver Scenario - customed catalog__BRONZE_sales_master_customers_BRONZE",
         "updated",
         "DATETIME2",
         "2024-12-17 03:58:40.526496"
        ],
        [
         "2024-12-16T04:06:58.208343Z",
         "/Users/di.truong@bizone.co.th/Write to Silver Scenario - customed catalog__SILVER_sales_master_customers_dit_SILVER",
         "updated",
         "DATETIME2",
         "2024-12-16 04:06:58.206091"
        ],
        [
         "2024-12-16T04:04:42.654549Z",
         "/Users/di.truong@bizone.co.th/Write to Silver Scenario - customed catalog__SILVER_sales_master_customers_dit_SILVER",
         "updated",
         "DATETIME2",
         "2024-12-16 04:04:42.653019"
        ],
        [
         "2024-12-16T04:03:53.944889Z",
         "/Users/di.truong@bizone.co.th/Write to Silver Scenario - customed catalog__SILVER_sales_master_customers_dit_SILVER",
         "updated",
         "DATETIME2",
         "2024-12-16 04:03:53.943370"
        ],
        [
         "2024-12-16T04:03:02.337138Z",
         "/Users/di.truong@bizone.co.th/Write to Silver Scenario - customed catalog__SILVER_sales_master_customers_dit_SILVER",
         "updated",
         "DATETIME2",
         "2024-12-16 04:03:02.335014"
        ],
        [
         "2024-12-16T04:01:00.966712Z",
         "/Users/di.truong@bizone.co.th/Write to Silver Scenario - customed catalog__SILVER_sales_master_customers_dit_SILVER",
         "updated",
         "DATETIME2",
         "2024-12-16 04:01:00.964391"
        ],
        [
         "2024-12-16T03:48:25.133836Z",
         "/Users/di.truong@bizone.co.th/Write to Silver Scenario - customed catalog__SILVER_sales_master_customers_dit_SILVER",
         "inserted",
         "DATETIME2",
         "2024-12-16 03:48:25.130597"
        ],
        [
         "2024-12-16T03:46:19.038833Z",
         "/Users/di.truong@bizone.co.th/Write to Silver Scenario__BRONZE_sales_master_customers_BRONZE",
         "inserted",
         "DATETIME2",
         "2024-12-16 03:46:19.034079"
        ],
        [
         "2024-12-16T03:44:22.879093Z",
         "/Users/di.truong@bizone.co.th/Write to Silver Scenario__BRONZE_sales_master_customers_BRONZE",
         "inserted",
         "DATETIME2",
         "1900-01-01 00:00:01"
        ],
        [
         "2024-12-17T03:34:22.991484Z",
         "/Users/di.truong@bizone.co.th/Write to Silver Scenario - customed catalog__BRONZE_sales_master_customers_BRONZE",
         "inserted",
         "DATETIME2",
         "1900-01-01"
        ],
        [
         "2024-12-17T03:55:23.999472Z",
         "/Users/di.truong@bizone.co.th/Write to Silver Scenario - customed catalog__BRONZE_sales_master_customers_dit_BRONZE",
         "inserted",
         "DATETIME2",
         "1900-01-01"
        ],
        [
         "2024-12-17T09:19:47.361783Z",
         "/Users/di.truong@bizone.co.th/Write to Silver Scenario - customed catalog__BRONZE_sales_master_customers_dit_BRONZE",
         "inserted",
         "DATETIME2",
         "1900-01-01"
        ],
        [
         "2024-12-17T09:32:12.977136Z",
         "/Users/di.truong@bizone.co.th/Write to Silver Scenario - customed catalog__BRONZE_sales_master_customers_BRONZE",
         "inserted",
         "DATETIME2",
         "1900-01-01"
        ],
        [
         "2024-12-17T09:39:04.567241Z",
         "/Users/di.truong@bizone.co.th/Write to Silver Scenario - customed catalog__BRONZE_sales_master_customers_BRONZE",
         "inserted",
         "DATETIME2",
         "1900-01-01"
        ],
        [
         "2024-12-17T09:55:10.898758Z",
         "/Users/di.truong@bizone.co.th/Write to Silver Scenario - customed catalog__BRONZE_sales_master_customers_BRONZE",
         "inserted",
         "DATETIME2",
         "1900-01-01"
        ],
        [
         "2024-12-19T04:17:38.891192Z",
         "/Users/di.truong@bizone.co.th/Write to Silver Scenario - customed catalog__BRONZE_sales_master_customers_BRONZE",
         "inserted",
         "DATETIME2",
         "1900-01-01"
        ],
        [
         "2024-12-19T04:19:47.41405Z",
         "/Users/di.truong@bizone.co.th/Write to Silver Scenario - customed catalog__BRONZE_sales_master_customers_BRONZE",
         "inserted",
         "DATETIME2",
         "1900-01-01"
        ],
        [
         "2024-12-19T04:25:23.337185Z",
         "/Users/di.truong@bizone.co.th/Write to Silver Scenario - customed catalog__BRONZE_sales_master_customers_BRONZE",
         "inserted",
         "DATETIME2",
         "1900-01-01"
        ],
        [
         "2024-12-19T04:26:05.559156Z",
         "/Users/di.truong@bizone.co.th/Write to Silver Scenario - customed catalog__BRONZE_sales_master_customers_BRONZE",
         "inserted",
         "DATETIME2",
         "1900-01-01"
        ],
        [
         "2024-12-19T04:31:57.495988Z",
         "/Users/di.truong@bizone.co.th/Write to Silver Scenario - customed catalog__BRONZE_sales_master_customers_BRONZE",
         "inserted",
         "DATETIME2",
         "1900-01-01"
        ],
        [
         "2024-12-19T04:33:17.74848Z",
         "/Users/di.truong@bizone.co.th/Write to Silver Scenario - customed catalog__BRONZE_sales_master_customers_BRONZE",
         "inserted",
         "DATETIME2",
         "1900-01-01"
        ],
        [
         "2024-12-19T04:35:36.736983Z",
         "/Users/di.truong@bizone.co.th/Write to Silver Scenario - customed catalog__BRONZE_sales_master_customers_BRONZE",
         "inserted",
         "DATETIME2",
         "1900-01-01"
        ],
        [
         "2024-12-19T04:37:32.982249Z",
         "/Users/di.truong@bizone.co.th/Write to Silver Scenario - customed catalog__BRONZE_sales_master_customers_BRONZE",
         "inserted",
         "DATETIME2",
         "1900-01-01"
        ],
        [
         "2024-12-19T04:38:17.954869Z",
         "/Users/di.truong@bizone.co.th/Write to Silver Scenario - customed catalog__BRONZE_sales_master_customers_BRONZE",
         "inserted",
         "DATETIME2",
         "1900-01-01"
        ],
        [
         "2024-12-19T06:00:13.826562Z",
         "/Users/di.truong@bizone.co.th/Write to Silver Scenario - customed catalog__BRONZE_sales_master_customers_BRONZE",
         "inserted",
         "DATETIME2",
         "1900-01-01"
        ],
        [
         "2024-12-19T06:11:14.656519Z",
         "/Users/di.truong@bizone.co.th/Write to Silver Scenario - customed catalog__BRONZE_sales_master_customers_BRONZE",
         "inserted",
         "DATETIME2",
         "1900-01-01"
        ],
        [
         "2024-12-19T06:31:06.617856Z",
         "/Users/di.truong@bizone.co.th/Write to Silver Scenario - customed catalog__BRONZE_sales_master_customers_BRONZE",
         "inserted",
         "DATETIME2",
         "1900-01-01"
        ],
        [
         "2024-12-19T06:32:40.423465Z",
         "/Users/di.truong@bizone.co.th/Write to Silver Scenario - customed catalog__BRONZE_sales_master_customers_BRONZE",
         "inserted",
         "DATETIME2",
         "1900-01-01"
        ],
        [
         "2024-12-19T06:53:24.098882Z",
         "/Users/di.truong@bizone.co.th/Write to Silver Scenario - customed catalog__BRONZE_sales_master_customers_BRONZE",
         "inserted",
         "DATETIME2",
         "1900-01-01"
        ],
        [
         "2024-12-19T07:10:15.101458Z",
         "/Users/di.truong@bizone.co.th/Write to Silver Scenario - customed catalog__BRONZE_sales_master_customers_BRONZE",
         "inserted",
         "DATETIME2",
         "1900-01-01"
        ],
        [
         "2024-12-19T07:23:30.670438Z",
         "/Users/di.truong@bizone.co.th/Write to Silver Scenario - customed catalog__BRONZE_sales_master_customers_BRONZE",
         "inserted",
         "DATETIME2",
         "1900-01-01"
        ],
        [
         "2024-12-19T07:42:21.346181Z",
         "/Users/di.truong@bizone.co.th/Write to Silver Scenario - customed catalog__BRONZE_sales_master_customers_BRONZE",
         "inserted",
         "DATETIME2",
         "1900-01-01"
        ],
        [
         "2024-12-19T07:50:35.627774Z",
         "/Users/di.truong@bizone.co.th/Write to Silver Scenario - customed catalog__BRONZE_sales_master_customers_BRONZE",
         "inserted",
         "DATETIME2",
         "1900-01-01"
        ],
        [
         "2024-12-19T08:33:23.494528Z",
         "/Users/di.truong@bizone.co.th/Write to Silver Scenario - customed catalog__BRONZE_sales_master_customers_BRONZE",
         "inserted",
         "DATETIME2",
         "1900-01-01"
        ],
        [
         "2024-12-19T08:38:21.515825Z",
         "/Users/di.truong@bizone.co.th/Write to Silver Scenario - customed catalog__BRONZE_sales_master_customers_BRONZE",
         "inserted",
         "DATETIME2",
         "1900-01-01"
        ],
        [
         "2024-12-19T08:39:18.958213Z",
         "/Users/di.truong@bizone.co.th/Write to Silver Scenario - customed catalog__BRONZE_sales_master_customers_BRONZE",
         "inserted",
         "DATETIME2",
         "1900-01-01"
        ],
        [
         "2024-12-19T09:21:11.787331Z",
         "/Users/di.truong@bizone.co.th/Write to Silver Scenario - customed catalog__BRONZE_sales_master_customers_BRONZE",
         "inserted",
         "DATETIME2",
         "1900-01-01"
        ],
        [
         "2024-12-19T10:02:10.06936Z",
         "/Users/di.truong@bizone.co.th/Write to Fact Scenario__SILVER_sales_master_customers_SILVER",
         "inserted",
         "DATETIME2",
         "1900-01-01"
        ],
        [
         "2024-12-20T04:36:44.010608Z",
         "/Users/di.truong@bizone.co.th/Write to Fact Scenario__SILVER_sales_master_customers_SILVER",
         "inserted",
         "DATETIME2",
         "1900-01-01"
        ],
        [
         "2024-12-20T04:38:15.763325Z",
         "/Users/di.truong@bizone.co.th/Write to Fact Scenario__SILVER_sales_master_customers_SILVER",
         "inserted",
         "DATETIME2",
         "1900-01-01"
        ],
        [
         "2025-01-08T07:29:37.280591Z",
         "/Users/di.truong@bizone.co.th/Write to Silver Scenario - customed catalog__BRONZE_sales_master_customers_BRONZE",
         "inserted",
         "DATETIME2",
         "1900-01-01"
        ],
        [
         "2025-01-09T04:24:40.26867Z",
         "/Users/di.truong@bizone.co.th/Write to Fact Scenario__SILVER_sales_master_customers_SILVER",
         "inserted",
         "DATETIME2",
         "1900-01-01"
        ]
       ],
       "datasetInfos": [],
       "dbfsResultPath": null,
       "isJsonSchema": true,
       "metadata": {
        "createTempViewForImplicitDf": true,
        "dataframeName": "_sqldf",
        "executionCount": 10
       },
       "overflow": false,
       "plotOptions": {
        "customPlotOptions": {},
        "displayType": "table",
        "pivotAggregation": null,
        "pivotColumns": null,
        "xColumns": null,
        "yColumns": null
       },
       "removedWidgets": [],
       "schema": [
        {
         "metadata": "{}",
         "name": "inserted_timestamp",
         "type": "\"timestamp\""
        },
        {
         "metadata": "{}",
         "name": "watermark_id",
         "type": "\"string\""
        },
        {
         "metadata": "{}",
         "name": "watermark_column",
         "type": "\"string\""
        },
        {
         "metadata": "{}",
         "name": "watermark_datatype",
         "type": "\"string\""
        },
        {
         "metadata": "{}",
         "name": "watermark_value",
         "type": "\"string\""
        }
       ],
       "type": "table"
      }
     },
     "output_type": "display_data"
    }
   ],
   "source": [
    "%sql\n",
    "select * \n",
    "from matas_development.bricksmith_meta.watermark\n",
    "order by watermark_value desc"
   ]
  }
 ],
 "metadata": {
  "application/vnd.databricks.v1+notebook": {
   "computePreferences": null,
   "dashboards": [],
   "environmentMetadata": {
    "base_environment": "",
    "environment_version": "1"
   },
   "inputWidgetPreferences": null,
   "language": "python",
   "notebookMetadata": {
    "mostRecentlyExecutedCommandWithImplicitDF": {
     "commandId": 5733429954815820,
     "dataframes": [
      "_sqldf"
     ]
    },
    "pythonIndentUnit": 4
   },
   "notebookName": "load to silver layer_orders",
   "widgets": {}
  },
  "language_info": {
   "name": "python"
  }
 },
 "nbformat": 4,
 "nbformat_minor": 0
}